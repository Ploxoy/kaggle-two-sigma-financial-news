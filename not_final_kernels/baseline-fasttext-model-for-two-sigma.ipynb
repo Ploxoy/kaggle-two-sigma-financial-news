{
 "cells": [
  {
   "cell_type": "markdown",
   "metadata": {
    "_uuid": "5ffb21374c7cf4b98e7239045ef9bf312effee25"
   },
   "source": [
    "# Two Sigma Financial News Competition Official Getting Started Kernel\n## Introduction\nIn this competition you will predict how stocks will change based on the market state and news articles.  You will loop through a long series of trading days; for each day, you'll receive an updated state of the market, and a series of news articles which were published since the last trading day, along with impacted stocks and sentiment analysis.  You'll use this information to predict whether each stock will have increased or decreased ten trading days into the future.  Once you make these predictions, you can move on to the next trading day. \n\nThis competition is different from most Kaggle Competitions in that:\n* You can only submit from Kaggle Kernels, and you may not use other data sources, GPU, or internet access.\n* This is a **two-stage competition**.  In Stage One you can edit your Kernels and improve your model, where Public Leaderboard scores are based on their predictions relative to past market data.  At the beginning of Stage Two, your Kernels are locked, and we will re-run your Kernels over the next six months, scoring them based on their predictions relative to live data as those six months unfold.\n* You must use our custom **`kaggle.competitions.twosigmanews`** Python module.  The purpose of this module is to control the flow of information to ensure that you are not using future data to make predictions for the current trading day.\n\n## In this Starter Kernel, we'll show how to use the **`twosigmanews`** module to get the training data, get test features and make predictions, and write the submission file.\n## TL;DR: End-to-End Usage Example\n```\nfrom kaggle.competitions import twosigmanews\nenv = twosigmanews.make_env()\n\n(market_train_df, news_train_df) = env.get_training_data()\ntrain_my_model(market_train_df, news_train_df)\n\nfor (market_obs_df, news_obs_df, predictions_template_df) in env.get_prediction_days():\n  predictions_df = make_my_predictions(market_obs_df, news_obs_df, predictions_template_df)\n  env.predict(predictions_df)\n  \nenv.write_submission_file()\n```\nNote that `train_my_model` and `make_my_predictions` are functions you need to write for the above example to work."
   ]
  },
  {
   "cell_type": "code",
   "execution_count": null,
   "metadata": {
    "trusted": true,
    "_uuid": "406332e61223c255f105c6832c3f1e2cafe736f1"
   },
   "outputs": [],
   "source": [
    "import pandas as pd\n",
    "import gc\n",
    "import re\n",
    "import numpy as np"
   ]
  },
  {
   "cell_type": "code",
   "execution_count": null,
   "metadata": {
    "_uuid": "8f2839f25d086af736a60e9eeb907d3b93b6e0e5",
    "_cell_guid": "b1076dfc-b9ad-4769-8c92-a6c4dae69d19",
    "trusted": true
   },
   "outputs": [],
   "source": [
    "from kaggle.competitions import twosigmanews\n",
    "# You can only call make_env() once, so don't lose it!\n",
    "env = twosigmanews.make_env()"
   ]
  },
  {
   "cell_type": "markdown",
   "metadata": {
    "_uuid": "6034b46fce8c9d55d403de32e7cebe8cb9fef96d"
   },
   "source": [
    "## **`get_training_data`** function\n\nReturns the training data DataFrames as a tuple of:\n* `market_train_df`: DataFrame with market training data\n* `news_train_df`: DataFrame with news training data\n\nThese DataFrames contain all market and news data from February 2007 to December 2016.  See the [competition's Data tab](https://www.kaggle.com/c/two-sigma-financial-news/data) for more information on what columns are included in each DataFrame."
   ]
  },
  {
   "cell_type": "code",
   "execution_count": null,
   "metadata": {
    "trusted": true,
    "_uuid": "c20fa6deeac9d374c98774abd90bdc76b023ee63"
   },
   "outputs": [],
   "source": [
    "(market_train_df, news_train_df) = env.get_training_data()"
   ]
  },
  {
   "cell_type": "code",
   "execution_count": null,
   "metadata": {
    "trusted": true,
    "_uuid": "e1cf10a54aea81e0a1c0daf025303bc8027f7d1b"
   },
   "outputs": [],
   "source": [
    "market_train_df.shape"
   ]
  },
  {
   "cell_type": "code",
   "execution_count": null,
   "metadata": {
    "trusted": true,
    "_uuid": "6811a1a76f08b2a029543cf73bcdf4dfca7dc362"
   },
   "outputs": [],
   "source": [
    "market_train_df.head()"
   ]
  },
  {
   "cell_type": "code",
   "execution_count": null,
   "metadata": {
    "trusted": true,
    "_uuid": "84b5a58f67ebded82e6aabc66ca36411e6db35a9"
   },
   "outputs": [],
   "source": [
    "market_train_df.tail()"
   ]
  },
  {
   "cell_type": "code",
   "execution_count": null,
   "metadata": {
    "trusted": true,
    "_uuid": "8e6dfdbf3645bcd3faac47a8dc65f2c849fb5cee"
   },
   "outputs": [],
   "source": [
    "market_train_df.describe()"
   ]
  },
  {
   "cell_type": "code",
   "execution_count": null,
   "metadata": {
    "trusted": true,
    "_uuid": "594b1400c8381d7b2ca73ac0b6387ee4eae77d80"
   },
   "outputs": [],
   "source": [
    "news_train_df.head()"
   ]
  },
  {
   "cell_type": "code",
   "execution_count": null,
   "metadata": {
    "trusted": true,
    "_uuid": "cd415199355b95491f24da873cb8729554b4d484"
   },
   "outputs": [],
   "source": [
    "news_train_df.tail()"
   ]
  },
  {
   "cell_type": "code",
   "execution_count": null,
   "metadata": {
    "trusted": true,
    "_uuid": "72c258fef51fef895ace138c6db9c4b574218118"
   },
   "outputs": [],
   "source": [
    "def add_id(df, id_name):\n",
    "    df[id_name] = df.index.astype(\"int32\") + 1"
   ]
  },
  {
   "cell_type": "markdown",
   "metadata": {
    "_uuid": "f20433ce55874ca1f3911388fb393b2a0c983d0d"
   },
   "source": [
    "## compress dtypes"
   ]
  },
  {
   "cell_type": "code",
   "execution_count": null,
   "metadata": {
    "trusted": true,
    "_uuid": "7619634c75e379754e5ff9040ed5e95e69de88a6"
   },
   "outputs": [],
   "source": [
    "def compress_dtypes(news_df):\n",
    "    for col, dtype in zip(news_df.columns, news_df.dtypes):\n",
    "        if dtype == np.dtype('float64'):\n",
    "            news_df[col] = news_df[col].astype(\"float32\")\n",
    "        if dtype == np.dtype('int64'):\n",
    "            news_df[col] = news_df[col].astype(\"int32\")"
   ]
  },
  {
   "cell_type": "code",
   "execution_count": null,
   "metadata": {
    "trusted": true,
    "_uuid": "825d53080701eccab3ea485ce37a1fc560aac6e7"
   },
   "outputs": [],
   "source": [
    "compress_dtypes(news_train_df)"
   ]
  },
  {
   "cell_type": "code",
   "execution_count": null,
   "metadata": {
    "trusted": true,
    "_uuid": "8ffa863b9fee32a7210db7d96596e5f00c1f67e2",
    "scrolled": true
   },
   "outputs": [],
   "source": [
    "news_train_df.dtypes"
   ]
  },
  {
   "cell_type": "code",
   "execution_count": null,
   "metadata": {
    "trusted": true,
    "_uuid": "1f8507eddcbc2071176d0d67ef1132f5a00bb75a"
   },
   "outputs": [],
   "source": [
    "news_train_df.tail()"
   ]
  },
  {
   "cell_type": "markdown",
   "metadata": {
    "_uuid": "fca895c4a419b9d3da2a96ed8d3d9c14f0400ae2"
   },
   "source": [
    "# add necessary info"
   ]
  },
  {
   "cell_type": "code",
   "execution_count": null,
   "metadata": {
    "trusted": true,
    "_uuid": "5ed8c68effb926be50e957d7242154bc20af9d60"
   },
   "outputs": [],
   "source": [
    "MARKET_ID = \"id\"\n",
    "NEWS_ID = \"news_id\""
   ]
  },
  {
   "cell_type": "code",
   "execution_count": null,
   "metadata": {
    "trusted": true,
    "_uuid": "f34d3deb1f68a8b10bbcdfed4fd2fef5d41936fa"
   },
   "outputs": [],
   "source": [
    "def add_ids(market_df, news_df):\n",
    "    add_id(market_df, MARKET_ID)\n",
    "    add_id(news_df, NEWS_ID)"
   ]
  },
  {
   "cell_type": "code",
   "execution_count": null,
   "metadata": {
    "trusted": true,
    "_uuid": "89139d560625100568105a010c0ab526e14629e9"
   },
   "outputs": [],
   "source": [
    "add_ids(market_train_df, news_train_df)"
   ]
  },
  {
   "cell_type": "code",
   "execution_count": null,
   "metadata": {
    "trusted": true,
    "_uuid": "a45100a8c21c7df0323cd5c14237df9a06f7eada"
   },
   "outputs": [],
   "source": [
    "market_train_df[\"id\"].max()"
   ]
  },
  {
   "cell_type": "code",
   "execution_count": null,
   "metadata": {
    "trusted": true,
    "_uuid": "924546812bba2d2e87717aaeed9561828cb87d81"
   },
   "outputs": [],
   "source": [
    "news_train_df[\"news_id\"].max()"
   ]
  },
  {
   "cell_type": "code",
   "execution_count": null,
   "metadata": {
    "trusted": true,
    "_uuid": "114b92ab945af7e7a9a2a5ecac04b66d107b147b"
   },
   "outputs": [],
   "source": [
    "market_train_df[:1]"
   ]
  },
  {
   "cell_type": "code",
   "execution_count": null,
   "metadata": {
    "trusted": true,
    "_uuid": "6eab5568b7dc38e7747cfb26aa34a53b41408c46"
   },
   "outputs": [],
   "source": [
    "def add_confidence(df):\n",
    "    # TODO change confidence by return proportion\n",
    "    df[\"confidence\"] = df[\"returnsOpenNextMktres10\"] >= 0"
   ]
  },
  {
   "cell_type": "code",
   "execution_count": null,
   "metadata": {
    "trusted": true,
    "_uuid": "4eb8986296d80c473396e9d4fe2446c05bf12909"
   },
   "outputs": [],
   "source": [
    "add_confidence(market_train_df)"
   ]
  },
  {
   "cell_type": "code",
   "execution_count": null,
   "metadata": {
    "trusted": true,
    "_uuid": "80900248fee7c8d2921f9c6fd6f867f2f4ee0df8"
   },
   "outputs": [],
   "source": [
    "market_train_df[:10]"
   ]
  },
  {
   "cell_type": "code",
   "execution_count": null,
   "metadata": {
    "trusted": true,
    "_uuid": "e88510d7e3285b89b71dca26c38440a7b28f8c8b"
   },
   "outputs": [],
   "source": [
    "market_train_df[:1]"
   ]
  },
  {
   "cell_type": "code",
   "execution_count": null,
   "metadata": {
    "trusted": true,
    "_uuid": "2b79a8ed42b9bd009242e1eead01401aaed0e236"
   },
   "outputs": [],
   "source": [
    "market_train_df.shape"
   ]
  },
  {
   "cell_type": "code",
   "execution_count": null,
   "metadata": {
    "trusted": true,
    "_uuid": "886048391800881466a6903a756aa5c63840c2fe"
   },
   "outputs": [],
   "source": [
    "market_train_df.id.tail()"
   ]
  },
  {
   "cell_type": "markdown",
   "metadata": {
    "_uuid": "1f227d0dcdf63a72bc01661dcbc02e3d2239c539"
   },
   "source": [
    "# full fill missing values"
   ]
  },
  {
   "cell_type": "code",
   "execution_count": null,
   "metadata": {
    "trusted": true,
    "_uuid": "b9cc769275d23b94219c2575640cc406989a1856"
   },
   "outputs": [],
   "source": [
    "market_train_df.isnull().sum(axis=0)"
   ]
  },
  {
   "cell_type": "markdown",
   "metadata": {
    "_uuid": "7faf7e24c9a1cbba1da44db2251186211abffe1f"
   },
   "source": [
    "returnsClosePrevMktres1 , returnsOpenPrevMktres1  returnsClosePrevMktres10  and returnsOpenPrevMktres10 aren't used here for this model, I ignore them"
   ]
  },
  {
   "cell_type": "code",
   "execution_count": null,
   "metadata": {
    "trusted": true,
    "_uuid": "be943d9b985e3a72b80baf68890e0a6f12a857a6",
    "scrolled": true
   },
   "outputs": [],
   "source": [
    "news_train_df.isnull().sum(axis=0)"
   ]
  },
  {
   "cell_type": "code",
   "execution_count": null,
   "metadata": {
    "trusted": true,
    "_uuid": "1edf18230734333c3f6e338d0ca446c15a7dd6c1"
   },
   "outputs": [],
   "source": [
    "# empty string check\n",
    "for col, dtype in zip(news_train_df.columns, news_train_df.dtypes):\n",
    "    if dtype == np.dtype('O'):\n",
    "        n_empty = (news_train_df[col]==\"\").sum()\n",
    "        print(\"empty value in {}: {}\".format(col, n_empty))"
   ]
  },
  {
   "cell_type": "code",
   "execution_count": null,
   "metadata": {
    "trusted": true,
    "_uuid": "753af2f2f3dc30c34d05f4a92cdfb17e97eb8d98",
    "scrolled": true
   },
   "outputs": [],
   "source": [
    "news_train_df.headlineTag.value_counts()"
   ]
  },
  {
   "cell_type": "markdown",
   "metadata": {
    "_uuid": "50ba81d1066127d61a931532e2e3c978f155d832"
   },
   "source": [
    "It seems headlineTag values are categorical values. Therefore, I convert the column into categorical values."
   ]
  },
  {
   "cell_type": "code",
   "execution_count": null,
   "metadata": {
    "trusted": true,
    "_uuid": "4ca457a4279add111198f3ec6674041b70b1ef84"
   },
   "outputs": [],
   "source": [
    "def fill_missing_value_news_df(news_df):\n",
    "    news_df.headlineTag.replace(\"\", \"UNKNONWN\", inplace=True)"
   ]
  },
  {
   "cell_type": "code",
   "execution_count": null,
   "metadata": {
    "trusted": true,
    "_uuid": "9827ee392ff5d3e60b2abe5981a147c0a12fed11"
   },
   "outputs": [],
   "source": [
    "fill_missing_value_news_df(news_df=news_train_df)"
   ]
  },
  {
   "cell_type": "code",
   "execution_count": null,
   "metadata": {
    "trusted": true,
    "_uuid": "e93124b6e41a4939a88a4a771efd4e59bf3534fc"
   },
   "outputs": [],
   "source": [
    "def to_category_news_df(news_df):\n",
    "    news_df.headlineTag = news_df.headlineTag.astype('category')"
   ]
  },
  {
   "cell_type": "code",
   "execution_count": null,
   "metadata": {
    "trusted": true,
    "_uuid": "e1669c400aeb2cde32df426cfe4d133a4554a30d"
   },
   "outputs": [],
   "source": [
    "to_category_news_df(news_train_df)"
   ]
  },
  {
   "cell_type": "code",
   "execution_count": null,
   "metadata": {
    "trusted": true,
    "_uuid": "4c3b1ce3340731b93fe279210d32f02284773889"
   },
   "outputs": [],
   "source": [
    "news_train_df.dtypes"
   ]
  },
  {
   "cell_type": "markdown",
   "metadata": {
    "_uuid": "f6d2aa535f025c04dcd0011689413b5198458c47"
   },
   "source": [
    "# Feature Extraction"
   ]
  },
  {
   "cell_type": "markdown",
   "metadata": {
    "_uuid": "3249ca64ec5da85922415d33ec3865021e013582"
   },
   "source": [
    "## news"
   ]
  },
  {
   "cell_type": "code",
   "execution_count": null,
   "metadata": {
    "trusted": true,
    "_uuid": "3ba68a0442eb9b814e1f7a4d231e265ecede9942"
   },
   "outputs": [],
   "source": [
    "categorical_features = [\"provider\", \"subjects\", \"audiences\", \"headlineTag\"]"
   ]
  },
  {
   "cell_type": "code",
   "execution_count": null,
   "metadata": {
    "trusted": true,
    "_uuid": "d8b85f5b54e7aa318ee9db49ef2e951af85047e2"
   },
   "outputs": [],
   "source": [
    "def encode_categorical_fields(news_df):\n",
    "    categories = []\n",
    "    for cat_column in categorical_features:\n",
    "        categories.append(news_df[cat_column].cat.categories)\n",
    "        news_df[cat_column] = news_df[cat_column].cat.codes\n",
    "    return categories"
   ]
  },
  {
   "cell_type": "code",
   "execution_count": null,
   "metadata": {
    "trusted": true,
    "_uuid": "825b768e0d073e19bf281b2689ee2371c035ce7a"
   },
   "outputs": [],
   "source": [
    "news_categories = encode_categorical_fields(news_train_df)"
   ]
  },
  {
   "cell_type": "code",
   "execution_count": null,
   "metadata": {
    "trusted": true,
    "_uuid": "4318eda9c289d66f5ba1bb01cb89936f46c64780"
   },
   "outputs": [],
   "source": [
    "news_categories"
   ]
  },
  {
   "cell_type": "markdown",
   "metadata": {
    "_uuid": "2d554e2024277d27fe68476aec92620450e0667a"
   },
   "source": [
    "### headline"
   ]
  },
  {
   "cell_type": "code",
   "execution_count": null,
   "metadata": {
    "trusted": true,
    "_uuid": "ed2f24d2610453a08c1105187f10c5e1cb60182d"
   },
   "outputs": [],
   "source": [
    "#from gensim.sklearn_api import D2VTransformer"
   ]
  },
  {
   "cell_type": "code",
   "execution_count": null,
   "metadata": {
    "trusted": true,
    "_uuid": "b6467837031a8b32e7a2cffc0908f316227e5a5d"
   },
   "outputs": [],
   "source": [
    "RANDOM_SEED = 10"
   ]
  },
  {
   "cell_type": "code",
   "execution_count": null,
   "metadata": {
    "trusted": true,
    "_uuid": "9502447f2ea8e3e24a70cf02449b799cfc73ae39"
   },
   "outputs": [],
   "source": [
    "#head_line_d2vec_model = D2VTransformer(min_count=5, size=50, workers=2, seed=RANDOM_SEED)"
   ]
  },
  {
   "cell_type": "code",
   "execution_count": null,
   "metadata": {
    "trusted": true,
    "_uuid": "22d594a3b6957c08b098aa5f7e7e3f5d899317d8"
   },
   "outputs": [],
   "source": [
    "# %%time\n",
    "# # more sophisticated cleaning\n",
    "# head_line_d2vec_feature = head_line_d2vec_model.fit_transform([text.split() for text in news_train_df.headline.tolist()])"
   ]
  },
  {
   "cell_type": "code",
   "execution_count": null,
   "metadata": {
    "trusted": true,
    "_uuid": "ea6456dc43e40a79ed292eb69cbe3b78ff8e2272"
   },
   "outputs": [],
   "source": [
    "#head_line_d2vec_feature[:10]"
   ]
  },
  {
   "cell_type": "code",
   "execution_count": null,
   "metadata": {
    "trusted": true,
    "_uuid": "527513b3befae151e610ba8714718622d3762af4"
   },
   "outputs": [],
   "source": [
    "import joblib"
   ]
  },
  {
   "cell_type": "code",
   "execution_count": null,
   "metadata": {
    "trusted": true,
    "_uuid": "621012497ff3fc61da43e8f0ed2deba4d3aad678"
   },
   "outputs": [],
   "source": [
    "#HEADLINE_DOC2VEC_MODEL = \"./headline_doc2vec_model.pickle\"\n",
    "\n",
    "#joblib.dump(head_line_d2vec_model, HEADLINE_DOC2VEC_MODEL)\n",
    "\n",
    "#del head_line_d2vec_model"
   ]
  },
  {
   "cell_type": "code",
   "execution_count": null,
   "metadata": {
    "trusted": true,
    "_uuid": "c1edf52e0335e99c2d6021656f8861eaf04b3118"
   },
   "outputs": [],
   "source": [
    "gc.collect()"
   ]
  },
  {
   "cell_type": "code",
   "execution_count": null,
   "metadata": {
    "trusted": true,
    "_uuid": "3d3cc3868bb334c5918fd3277272e1e03392414a"
   },
   "outputs": [],
   "source": [
    "import fastText"
   ]
  },
  {
   "cell_type": "code",
   "execution_count": null,
   "metadata": {
    "trusted": true,
    "_uuid": "4b4423419fe5eb783a1160f1ccb018a59ddde9e6"
   },
   "outputs": [],
   "source": [
    "FASTTEXT_MODEL_PATH = \"./fasttext_headline.model\"\n",
    "\n",
    "from pathlib import Path\n",
    "\n",
    "TEMP_HEAD_LINE_FILE = Path(\"./headline.txt\")\n",
    "\n",
    "news_train_df.headline.to_csv(TEMP_HEAD_LINE_FILE, index=False, encoding=\"utf-8\")"
   ]
  },
  {
   "cell_type": "code",
   "execution_count": null,
   "metadata": {
    "trusted": true,
    "_uuid": "2785e760244f76507c99610ba6976864315fbe0a"
   },
   "outputs": [],
   "source": [
    "%%time\n",
    "head_line_fastText_model = fastText.train_unsupervised(str(TEMP_HEAD_LINE_FILE), dim=50)"
   ]
  },
  {
   "cell_type": "code",
   "execution_count": null,
   "metadata": {
    "trusted": true,
    "_uuid": "98a0e91cc19265d4ed2792bbca35f9f2cccce499"
   },
   "outputs": [],
   "source": [
    "TEMP_HEAD_LINE_FILE.unlink()"
   ]
  },
  {
   "cell_type": "code",
   "execution_count": null,
   "metadata": {
    "trusted": true,
    "_uuid": "4bfa5c77e840ea71622740061405cd64621bd76a"
   },
   "outputs": [],
   "source": [
    "def extract_headline_fastText(news_df, fastText_model):\n",
    "    feature = news_df.headline.apply(fastText_model.get_sentence_vector)\n",
    "    return np.vstack(feature).astype(\"float16\")"
   ]
  },
  {
   "cell_type": "code",
   "execution_count": null,
   "metadata": {
    "trusted": true,
    "_uuid": "f160b4096e3ae344a5885c1fc563269d1c344a03"
   },
   "outputs": [],
   "source": [
    "%%time\n",
    "head_line_fastText_feature = extract_headline_fastText(news_train_df, head_line_fastText_model)"
   ]
  },
  {
   "cell_type": "code",
   "execution_count": null,
   "metadata": {
    "trusted": true,
    "_uuid": "4aba534f452d0c32f054a8493bb3147b11e0f347"
   },
   "outputs": [],
   "source": [
    "head_line_fastText_feature.shape"
   ]
  },
  {
   "cell_type": "code",
   "execution_count": null,
   "metadata": {
    "trusted": true,
    "_uuid": "f646907ef1baf8d7602b0a5f1f1f367406786509"
   },
   "outputs": [],
   "source": [
    "head_line_fastText_model.save_model(FASTTEXT_MODEL_PATH)"
   ]
  },
  {
   "cell_type": "code",
   "execution_count": null,
   "metadata": {
    "trusted": true,
    "_uuid": "a79b2e2dfa1ab37459f9e967c09881ccc3c78fd2"
   },
   "outputs": [],
   "source": [
    "del head_line_fastText_model"
   ]
  },
  {
   "cell_type": "code",
   "execution_count": null,
   "metadata": {
    "trusted": true,
    "_uuid": "0f2897a65d4c02108206b0bb629198ba3228be34"
   },
   "outputs": [],
   "source": [
    "gc.collect()"
   ]
  },
  {
   "cell_type": "code",
   "execution_count": null,
   "metadata": {
    "trusted": true,
    "_uuid": "faa3b5bfcae7686b9a129ad92d876d4569e2501b"
   },
   "outputs": [],
   "source": [
    "NEWS_FEATURE_SAVE_FILE = \"news_features.npz\""
   ]
  },
  {
   "cell_type": "code",
   "execution_count": null,
   "metadata": {
    "trusted": true,
    "_uuid": "4b3adbce6ad24df75135bad960e8cff8bc78ac6c"
   },
   "outputs": [],
   "source": [
    "np.savez_compressed(NEWS_FEATURE_SAVE_FILE, headline_fastText=head_line_fastText_feature)"
   ]
  },
  {
   "cell_type": "code",
   "execution_count": null,
   "metadata": {
    "trusted": true,
    "_uuid": "56e65bb91f34363ef82c9cf4f0e9ed4a7ad36e7a"
   },
   "outputs": [],
   "source": [
    "del head_line_fastText_feature"
   ]
  },
  {
   "cell_type": "code",
   "execution_count": null,
   "metadata": {
    "trusted": true,
    "_uuid": "4c95896efa5ce1225f677ea54d4dd703f094236a"
   },
   "outputs": [],
   "source": [
    "gc.collect()"
   ]
  },
  {
   "cell_type": "markdown",
   "metadata": {
    "_uuid": "c4448e59ee2d9c8e2938921d5b86748c486005e0"
   },
   "source": [
    " # remove unnecc"
   ]
  },
  {
   "cell_type": "code",
   "execution_count": null,
   "metadata": {
    "trusted": true,
    "_uuid": "eeebb99198b5c7e84928cbd2e55f6d684c0380dd"
   },
   "outputs": [],
   "source": [
    "def remove_unnecessary_columns(market_df, news_df):\n",
    "    #market_df.drop([\"returnsOpenNextMktres10\", \"universe\"], axis=1, inplace=True)\n",
    "    news_df.drop(['time', 'sourceId', 'sourceTimestamp', 'headline'], axis=1, inplace=True)"
   ]
  },
  {
   "cell_type": "code",
   "execution_count": null,
   "metadata": {
    "trusted": true,
    "_uuid": "c3d94c82c76e8635b8c75f9a475be81398f46a49"
   },
   "outputs": [],
   "source": [
    "def remove_unnecessary_columns_train(market_df, news_df):\n",
    "    market_df.drop([\"returnsOpenNextMktres10\", \"universe\"], axis=1, inplace=True)\n",
    "    remove_unnecessary_columns(market_df, news_df)"
   ]
  },
  {
   "cell_type": "code",
   "execution_count": null,
   "metadata": {
    "trusted": true,
    "_uuid": "dca92881831c520fdccfc9baca75d67d4aaaf1fc"
   },
   "outputs": [],
   "source": [
    "remove_unnecessary_columns_train(market_train_df, news_train_df)"
   ]
  },
  {
   "cell_type": "code",
   "execution_count": null,
   "metadata": {
    "trusted": true,
    "_uuid": "eb14c1835eda945f63fecf1a9b81d55d9d887966"
   },
   "outputs": [],
   "source": [
    "gc.collect()"
   ]
  },
  {
   "cell_type": "markdown",
   "metadata": {
    "_uuid": "9a3ea0ffe20f1f014e7f1daedaf28ed22728f1fa"
   },
   "source": [
    "# link data and news "
   ]
  },
  {
   "cell_type": "markdown",
   "metadata": {
    "_uuid": "fae5b40023b00649db5f161e1daf9cd06aefd7c4"
   },
   "source": [
    "## check assecName links"
   ]
  },
  {
   "cell_type": "code",
   "execution_count": null,
   "metadata": {
    "trusted": true,
    "_uuid": "a89c2e2340de394b7c946b335f8d741cf12f8124"
   },
   "outputs": [],
   "source": [
    "MAX_DAY_DIFF = 3\n",
    "MULTIPLE_CODES_PATTERN = re.compile(r\"[{}'']\")\n",
    "import itertools\n",
    "def link_data_and_news(market_df, news_df):\n",
    "    assetCodes_in_markests = market_df.assetCode.unique()\n",
    "    print(\"assetCodes pattern in markets: {}\".format(len(assetCodes_in_markests)))\n",
    "    assetCodes_in_news = news_df.assetCodes.unique()\n",
    "    assetCodes_in_news_size = len(assetCodes_in_news)\n",
    "    print(\"assetCodes pattern in news: {}\".format(assetCodes_in_news_size))\n",
    "    parse_multiple_codes = lambda codes: re.sub(r\"[{}'']\", \"\", str(codes)).split(\", \")\n",
    "    parsed_assetCodes_in_news = [parse_multiple_codes(str(codes)) for codes in assetCodes_in_news]\n",
    "    # len(max(parsed_assetCodes_in_news, key=lambda x: len(x)))\n",
    "    all_assetCode_type_in_news = list(set(itertools.chain.from_iterable(assetCodes_in_news)))\n",
    "    # check linking\n",
    "    links_assetCodes = [[[raw_codes, market_assetCode] for parsed_codes, raw_codes in zip(parsed_assetCodes_in_news, assetCodes_in_news) if str(market_assetCode) in parsed_codes] for market_assetCode in assetCodes_in_markests]\n",
    "    links_assetCodes = list(itertools.chain.from_iterable(links_assetCodes))\n",
    "    print(\"links for assetCodes: {}\".format(len(links_assetCodes)))\n",
    "    links_assetCodes = pd.DataFrame(links_assetCodes, columns=[\"newsAssetCodes\", \"marketAssetCode\"], dtype='category')\n",
    "\n",
    "    ## check date linking\n",
    "    news_df[\"firstCreatedDate\"] = news_df.firstCreated.dt.date\n",
    "    market_df[\"date\"] = market_df.time.dt.date\n",
    "\n",
    "    working_dates = news_df.firstCreatedDate.unique().astype(np.datetime64)\n",
    "    working_dates.sort()\n",
    "    market_dates = market_df.date.unique().astype(np.datetime64)\n",
    "    market_dates.sort()\n",
    "\n",
    "\n",
    "    def find_prev_date(date):\n",
    "        for diff_day in range(1, MAX_DAY_DIFF + 1):\n",
    "            prev_date = date - np.timedelta64(diff_day, 'D')\n",
    "            if len(np.searchsorted(working_dates, prev_date)) > 0:\n",
    "                return prev_date\n",
    "        return None\n",
    "\n",
    "    prev_news_days_for_market_day = np.apply_along_axis(arr=market_dates, func1d=find_prev_date, axis=0) \n",
    "\n",
    "    date_df = pd.DataFrame(columns=[\"date\", \"prevDate\"])\n",
    "    date_df.date = market_dates\n",
    "    \n",
    "    date_df.prevDate = prev_news_days_for_market_day\n",
    "\n",
    "    market_df.date = market_df.date.astype(np.datetime64)\n",
    "\n",
    "    market_df = market_df.merge(date_df, left_on=\"date\", right_on=\"date\")\n",
    "\n",
    "    market_df[:10]\n",
    "\n",
    "    del date_df\n",
    "    gc.collect()\n",
    "\n",
    "    ## merge assetCodes links\n",
    "\n",
    "    market_df = market_df.merge(links_assetCodes, left_on=\"assetCode\", right_on=\"marketAssetCode\")\n",
    "\n",
    "    market_df[:10]\n",
    "\n",
    "    market_df.drop([\"marketAssetCode\"], axis=1, inplace=True)\n",
    "\n",
    "    del links_assetCodes\n",
    "    gc.collect()\n",
    "    ## merge market and news\n",
    "\n",
    "    news_df.firstCreatedDate = news_df.firstCreatedDate.astype(np.datetime64)\n",
    "\n",
    "\n",
    "    market_df_today_news = market_df.merge(news_df, left_on=[\"newsAssetCodes\", \"date\"], \n",
    "                                           right_on=[\"assetCodes\", \"firstCreatedDate\"])\n",
    "\n",
    "    # remove news after market obs\n",
    "    market_df_today_news = market_df_today_news[market_df_today_news[\"time\"] > market_df_today_news[\"firstCreated\"]]\n",
    "\n",
    "    market_df_today_news.shape\n",
    "\n",
    "    market_df_today_news.sort_values(by=[\"firstCreated\"], inplace=True)\n",
    "\n",
    "    # only leave latest news\n",
    "    market_df_today_news.drop_duplicates(subset=[\"id\"], keep=\"last\", inplace=True)\n",
    "\n",
    "    gc.collect()\n",
    "\n",
    "    market_df_prev_day_news = market_df.merge(news_df, left_on=[\"newsAssetCodes\", \"prevDate\"], \n",
    "                                           right_on=[\"assetCodes\", \"firstCreatedDate\"])\n",
    "\n",
    "    market_df_prev_day_news.sort_values(by=[\"firstCreated\"], inplace=True)\n",
    "\n",
    "    # only leave latest news\n",
    "    market_df_prev_day_news.drop_duplicates(subset=[\"id\"], keep=\"last\", inplace=True)\n",
    "\n",
    "    del market_df\n",
    "    del news_df\n",
    "\n",
    "    gc.collect()\n",
    "\n",
    "    market_df = pd.concat([market_df_prev_day_news, market_df_today_news]).sort_values([\"firstCreated\"])\n",
    "\n",
    "    del market_df_prev_day_news\n",
    "\n",
    "    del market_df_today_news\n",
    "\n",
    "    gc.collect()\n",
    "\n",
    "    market_df.drop_duplicates(subset=[\"id\"], keep=\"last\", inplace=True)\n",
    "    market_df.drop([\"assetCode\", \"date\", \"prevDate\", \"newsAssetCodes\", \"assetName_x\", \"assetCodes\", \"assetName_y\", \n",
    "                     \"firstCreated\", \"firstCreatedDate\"], axis=1, inplace=True)\n",
    "    gc.collect()\n",
    "    print(\"linking done\")\n",
    "    return market_df"
   ]
  },
  {
   "cell_type": "code",
   "execution_count": null,
   "metadata": {
    "trusted": true,
    "_uuid": "8e76f174025e6eec29af76ca5951b924450fa113"
   },
   "outputs": [],
   "source": [
    "%%time\n",
    "market_train_df = link_data_and_news(market_train_df, news_train_df)"
   ]
  },
  {
   "cell_type": "code",
   "execution_count": null,
   "metadata": {
    "trusted": true,
    "_uuid": "711af28ca4f465dde6eb89839fadcc2f73c69c3b"
   },
   "outputs": [],
   "source": [
    "del news_train_df"
   ]
  },
  {
   "cell_type": "code",
   "execution_count": null,
   "metadata": {
    "trusted": true,
    "_uuid": "99f4ce43c07e663dc9ee02d6ea9f97e6c2830e7f"
   },
   "outputs": [],
   "source": [
    "gc.collect()"
   ]
  },
  {
   "cell_type": "code",
   "execution_count": null,
   "metadata": {
    "trusted": true,
    "_uuid": "2c5dc84d3aab78b2eff2bc5f42cff0de398b89ca"
   },
   "outputs": [],
   "source": [
    "market_train_df.columns"
   ]
  },
  {
   "cell_type": "code",
   "execution_count": null,
   "metadata": {
    "trusted": true,
    "_uuid": "9fd16beb215172715b8cad3f83aba53ec0fe2d86"
   },
   "outputs": [],
   "source": [
    "market_train_df.columns"
   ]
  },
  {
   "cell_type": "code",
   "execution_count": null,
   "metadata": {
    "trusted": true,
    "_uuid": "7567021eb00d534d4e3e2f14de8121a929b13a9d"
   },
   "outputs": [],
   "source": [
    "market_train_df.sort_values(by=[\"time\"], inplace=True)"
   ]
  },
  {
   "cell_type": "markdown",
   "metadata": {
    "_uuid": "6a70033b0c1436ee5d5b494e45f71f712ed621a3"
   },
   "source": [
    "# convert into trainable form"
   ]
  },
  {
   "cell_type": "code",
   "execution_count": null,
   "metadata": {
    "trusted": true,
    "_uuid": "e6420db679f041bca746e5113581bf003b2468da"
   },
   "outputs": [],
   "source": [
    "def to_Y(train_df):\n",
    "    return np.asarray(train_df.confidence)"
   ]
  },
  {
   "cell_type": "code",
   "execution_count": null,
   "metadata": {
    "trusted": true,
    "_uuid": "64a69e94abdf77c6abaa920315630b06e8596bac"
   },
   "outputs": [],
   "source": [
    "train_Y = to_Y(train_df=market_train_df)"
   ]
  },
  {
   "cell_type": "code",
   "execution_count": null,
   "metadata": {
    "trusted": true,
    "_uuid": "987cc3852c103816d1643fa3447c61351eae0665"
   },
   "outputs": [],
   "source": [
    "market_train_df.drop([\"confidence\"], axis=1, inplace=True)"
   ]
  },
  {
   "cell_type": "code",
   "execution_count": null,
   "metadata": {
    "trusted": true,
    "_uuid": "cb2bddbfce8fa0c6b889608ee7fe33976fc0057b"
   },
   "outputs": [],
   "source": [
    "def to_X(df, news_features, news_feature_names):\n",
    "    market_obs_ids = df.id\n",
    "    news_obs_ids = df.news_id\n",
    "    market_obs_times = df.time\n",
    "    df.drop([\"id\", \"news_id\", \"time\"], axis=1, inplace=True)\n",
    "    X = df.values.astype(\"float32\")\n",
    "    feature_names = df.columns.tolist()\n",
    "    feature_names.extend(news_feature_names)\n",
    "    del df\n",
    "    gc.collect()\n",
    "    row_indices = [market_id - 1 for market_id in news_obs_ids.tolist()]\n",
    "    news_features = news_features[row_indices]\n",
    "    X = np.hstack([X, news_features])\n",
    "    del news_features\n",
    "    return X, market_obs_ids, news_obs_ids, market_obs_times, feature_names"
   ]
  },
  {
   "cell_type": "code",
   "execution_count": null,
   "metadata": {
    "trusted": true,
    "_uuid": "952584ef2328fcefd1e665ff613dac702954188b"
   },
   "outputs": [],
   "source": [
    "news_features = [ np.load(\"news_features.npz\")[\"headline_fastText\"] ] "
   ]
  },
  {
   "cell_type": "code",
   "execution_count": null,
   "metadata": {
    "trusted": true,
    "_uuid": "57ae006f83f9637b10c3059e40bf6e39d2355843"
   },
   "outputs": [],
   "source": [
    "news_feature_names = [ \"headline_fastText\"]\n"
   ]
  },
  {
   "cell_type": "code",
   "execution_count": null,
   "metadata": {
    "trusted": true,
    "_uuid": "13b41850e0cd07debddb7202dd051b7f1a63084d"
   },
   "outputs": [],
   "source": [
    "news_feature_names = [[\"{}_{}\".format(name, i) for i in range(feature.shape[1])]for feature, name \n",
    "                       in zip(news_features, news_feature_names)]"
   ]
  },
  {
   "cell_type": "code",
   "execution_count": null,
   "metadata": {
    "trusted": true,
    "_uuid": "9425179f3cdf13e6c20bd36fefc6d6e8bc19f1f1"
   },
   "outputs": [],
   "source": [
    "news_feature_names = itertools.chain.from_iterable(news_feature_names)"
   ]
  },
  {
   "cell_type": "code",
   "execution_count": null,
   "metadata": {
    "trusted": true,
    "_uuid": "0f9776382129935e9dc7eff05ff36e46983c3192"
   },
   "outputs": [],
   "source": [
    "news_features = np.hstack(news_features)"
   ]
  },
  {
   "cell_type": "code",
   "execution_count": null,
   "metadata": {
    "trusted": true,
    "_uuid": "1a37457dc9e1387372ed095e885cb6dc62d3975d"
   },
   "outputs": [],
   "source": [
    "gc.collect()"
   ]
  },
  {
   "cell_type": "code",
   "execution_count": null,
   "metadata": {
    "trusted": true,
    "_uuid": "be84cdd01daa23fdaea59b62ea1786345ac66d96"
   },
   "outputs": [],
   "source": [
    "%%time\n",
    "X, market_train_obs_ids, news_train_obs_ids, market_train_obs_times, feature_names = to_X(\n",
    "    market_train_df, news_features, news_feature_names\n",
    ")"
   ]
  },
  {
   "cell_type": "code",
   "execution_count": null,
   "metadata": {
    "trusted": true,
    "_uuid": "32ea841c3ce6d3603551712517428594f4993cf5"
   },
   "outputs": [],
   "source": [
    "del news_features"
   ]
  },
  {
   "cell_type": "code",
   "execution_count": null,
   "metadata": {
    "trusted": true,
    "_uuid": "e00d4939d9f8a9accce0ae7eff520c839a61add0"
   },
   "outputs": [],
   "source": [
    "gc.collect()"
   ]
  },
  {
   "cell_type": "code",
   "execution_count": null,
   "metadata": {
    "trusted": true,
    "_uuid": "e954736227df542ebc8ca6348522818f0ceabe5b"
   },
   "outputs": [],
   "source": [
    "type(feature_names[0])"
   ]
  },
  {
   "cell_type": "code",
   "execution_count": null,
   "metadata": {
    "trusted": true,
    "_uuid": "8b68b849d7d9659e026136b8b28f66fa28facc20"
   },
   "outputs": [],
   "source": [
    "len(feature_names)"
   ]
  },
  {
   "cell_type": "markdown",
   "metadata": {
    "_uuid": "fea4c47d148463d38fa42265a4310288cbe00711"
   },
   "source": [
    "# create validation data"
   ]
  },
  {
   "cell_type": "markdown",
   "metadata": {
    "_uuid": "a8d91a96dcb5f53f71315bdfd6ad1b382bfc3d97"
   },
   "source": [
    "# train model"
   ]
  },
  {
   "cell_type": "code",
   "execution_count": null,
   "metadata": {
    "trusted": true,
    "_uuid": "785ecb08eff9d35a272ac3828b94158403eaac84"
   },
   "outputs": [],
   "source": [
    "import lightgbm as lgb"
   ]
  },
  {
   "cell_type": "code",
   "execution_count": null,
   "metadata": {
    "trusted": true,
    "_uuid": "9bd3978f632e017af9cb38dd05a0eae075056ea0"
   },
   "outputs": [],
   "source": [
    "train_size = X.shape[0] // 5 * 4"
   ]
  },
  {
   "cell_type": "code",
   "execution_count": null,
   "metadata": {
    "trusted": true,
    "_uuid": "203bf713c4c67747436125f9d0874e9a16fcb5a5"
   },
   "outputs": [],
   "source": [
    "train_size"
   ]
  },
  {
   "cell_type": "code",
   "execution_count": null,
   "metadata": {
    "trusted": true,
    "_uuid": "b568cf7b68ce5dca6c6b32dd2828fa46bd00307b"
   },
   "outputs": [],
   "source": [
    "X, valid_X, train_Y, valid_Y = (X[range(train_size)], X[train_size:], \n",
    "                               train_Y[:train_size], train_Y[train_size:])"
   ]
  },
  {
   "cell_type": "code",
   "execution_count": null,
   "metadata": {
    "trusted": true,
    "_uuid": "930b7141417cf48a83f7bf86f972460ab175d5ab"
   },
   "outputs": [],
   "source": [
    "X.shape"
   ]
  },
  {
   "cell_type": "code",
   "execution_count": null,
   "metadata": {
    "trusted": true,
    "_uuid": "afa312be8a550338a2c4c1b650c59b0eb8a7a2bc"
   },
   "outputs": [],
   "source": [
    "valid_X.shape"
   ]
  },
  {
   "cell_type": "code",
   "execution_count": null,
   "metadata": {
    "trusted": true,
    "_uuid": "d9ff4ab79743da65af05170980406865abe02d27"
   },
   "outputs": [],
   "source": [
    "feature_names"
   ]
  },
  {
   "cell_type": "code",
   "execution_count": null,
   "metadata": {
    "trusted": true,
    "_uuid": "71902be335f59766bde60509075eb7e3ec0fd6aa"
   },
   "outputs": [],
   "source": [
    "X = lgb.Dataset(X, label=train_Y, feature_name=feature_names, categorical_feature=categorical_features, free_raw_data=False)"
   ]
  },
  {
   "cell_type": "code",
   "execution_count": null,
   "metadata": {
    "trusted": true,
    "_uuid": "4c0ec14ee3bf375e634326aee7ca5b32615adf85"
   },
   "outputs": [],
   "source": [
    "valid_X = X.create_valid(valid_X, label=valid_Y)"
   ]
  },
  {
   "cell_type": "code",
   "execution_count": null,
   "metadata": {
    "trusted": true,
    "_uuid": "645d18a5ae50cd55ed2150ff359b0ae62925a715"
   },
   "outputs": [],
   "source": [
    "gc.collect()"
   ]
  },
  {
   "cell_type": "markdown",
   "metadata": {
    "_uuid": "95bcd7a2b6b7cf792f495c551679d35617f86191"
   },
   "source": [
    "## train"
   ]
  },
  {
   "cell_type": "code",
   "execution_count": null,
   "metadata": {
    "trusted": true,
    "_uuid": "ccc4269d9a7597086432c1d271ee12ecda8a37c4"
   },
   "outputs": [],
   "source": [
    "hyper_params = {\"objective\": \"binary\", \"boosting\":\"gbdt\", \"num_iterations\": 100, \n",
    "               \"learning_rate\": 0.02, \"num_leaves\": 31, \"num_threads\": 2,\n",
    "                \"seed\": RANDOM_SEED, \"early_stopping_round\": 10\n",
    "               }"
   ]
  },
  {
   "cell_type": "code",
   "execution_count": null,
   "metadata": {
    "trusted": true,
    "_uuid": "2c71b981163912b3872358aacb3ee834369fde87"
   },
   "outputs": [],
   "source": [
    "model = lgb.train(params=hyper_params, train_set=X, valid_sets=[valid_X])"
   ]
  },
  {
   "cell_type": "code",
   "execution_count": null,
   "metadata": {
    "trusted": true,
    "_uuid": "27c4d5b112572723879ddfdbb1e2dbf82993df81"
   },
   "outputs": [],
   "source": [
    "for feature, imp in zip(model.feature_name(), model.feature_importance()):\n",
    "    print(\"{}: {}\".format(feature, imp))"
   ]
  },
  {
   "cell_type": "code",
   "execution_count": null,
   "metadata": {
    "trusted": true,
    "_uuid": "fa1a786d0a21d036a7c57d1f70ab680c9b908eb1"
   },
   "outputs": [],
   "source": [
    "del X"
   ]
  },
  {
   "cell_type": "code",
   "execution_count": null,
   "metadata": {
    "trusted": true,
    "_uuid": "96cbbb9bad765408e6b910de6bfe378c18e6bfca"
   },
   "outputs": [],
   "source": [
    "del valid_X"
   ]
  },
  {
   "cell_type": "code",
   "execution_count": null,
   "metadata": {
    "trusted": true,
    "_uuid": "ee386c015378bc51496e09cb94b3464b03f1ce82"
   },
   "outputs": [],
   "source": [
    "gc.collect()"
   ]
  },
  {
   "cell_type": "code",
   "execution_count": null,
   "metadata": {
    "trusted": true,
    "_uuid": "024c9c31cb541f723b26574697113125d3963f48"
   },
   "outputs": [],
   "source": [
    "import plotly.plotly as plotly"
   ]
  },
  {
   "cell_type": "code",
   "execution_count": null,
   "metadata": {
    "trusted": true,
    "_uuid": "f99b4f083974ee07e23b30cb203228598306ee73"
   },
   "outputs": [],
   "source": [
    "import seaborn as sns"
   ]
  },
  {
   "cell_type": "code",
   "execution_count": null,
   "metadata": {
    "trusted": true,
    "_uuid": "0e2be438374f2c3265f475cd99c2b80dd99bf728"
   },
   "outputs": [],
   "source": [
    "import plotly.graph_objs as go"
   ]
  },
  {
   "cell_type": "code",
   "execution_count": null,
   "metadata": {
    "trusted": true,
    "_uuid": "f7915c7f5f3838dbfc905693728b50b0b761c1c3"
   },
   "outputs": [],
   "source": [
    "# bar_data = [go.Bar(x=X.feature_name, y=model.feature_importance())]\n",
    "\n",
    "# plotly.iplot(bar_data, filename=\"feature_importance\")"
   ]
  },
  {
   "cell_type": "code",
   "execution_count": null,
   "metadata": {
    "trusted": true,
    "_uuid": "997999e0151db21da197c293988f94cc418276d0"
   },
   "outputs": [],
   "source": [
    "sns.set()"
   ]
  },
  {
   "cell_type": "code",
   "execution_count": null,
   "metadata": {
    "trusted": true,
    "_uuid": "b454872aef2ee7e7b7be36d92c68cab2e73b3ec5"
   },
   "outputs": [],
   "source": [
    "sns.set_context(\"notebook\")"
   ]
  },
  {
   "cell_type": "code",
   "execution_count": null,
   "metadata": {
    "trusted": true,
    "_uuid": "0586227abb28de92dd564f4138e607db6a5a0ed0"
   },
   "outputs": [],
   "source": [
    "import matplotlib.pyplot as plt"
   ]
  },
  {
   "cell_type": "code",
   "execution_count": null,
   "metadata": {
    "trusted": true,
    "_uuid": "111299cbb7bd8954cc7e587ef7249456d93c78bf"
   },
   "outputs": [],
   "source": [
    "%matplotlib inline"
   ]
  },
  {
   "cell_type": "code",
   "execution_count": null,
   "metadata": {
    "trusted": true,
    "_uuid": "4b6ff2f30b2312a64cfccc4718ec5aa39437e0d8"
   },
   "outputs": [],
   "source": [
    "sns.barplot(x=model.feature_name(), y=model.feature_importance(), \n",
    "            ax=plt.subplots(figsize=(20, 10))[1])"
   ]
  },
  {
   "cell_type": "markdown",
   "metadata": {
    "trusted": true,
    "_uuid": "840aa03b49d675953f080e4069f79f435282bb43"
   },
   "source": [
    "## `get_prediction_days` function\n\nGenerator which loops through each \"prediction day\" (trading day) and provides all market and news observations which occurred since the last data you've received.  Once you call **`predict`** to make your future predictions, you can continue on to the next prediction day.\n\nYields:\n* While there are more prediction day(s) and `predict` was called successfully since the last yield, yields a tuple of:\n    * `market_observations_df`: DataFrame with market observations for the next prediction day.\n    * `news_observations_df`: DataFrame with news observations for the next prediction day.\n    * `predictions_template_df`: DataFrame with `assetCode` and `confidenceValue` columns, prefilled with `confidenceValue = 0`, to be filled in and passed back to the `predict` function.\n* If `predict` has not been called since the last yield, yields `None`."
   ]
  },
  {
   "cell_type": "markdown",
   "metadata": {
    "trusted": true,
    "_uuid": "ba72731adf652d6011652e906d8b340d6572904e"
   },
   "source": [
    "### **`predict`** function\nStores your predictions for the current prediction day.  Expects the same format as you saw in `predictions_template_df` returned from `get_prediction_days`.\n\nArgs:\n* `predictions_df`: DataFrame which must have the following columns:\n    * `assetCode`: The market asset.\n    * `confidenceValue`: Your confidence whether the asset will increase or decrease in 10 trading days.  All values must be in the range `[-1.0, 1.0]`.\n\nThe `predictions_df` you send **must** contain the exact set of rows which were given to you in the `predictions_template_df` returned from `get_prediction_days`.  The `predict` function does not validate this, but if you are missing any `assetCode`s or add any extraneous `assetCode`s, then your submission will fail."
   ]
  },
  {
   "cell_type": "markdown",
   "metadata": {
    "_uuid": "9cd8317a5e52180b592ee2abc1d2177214642a3c"
   },
   "source": [
    "Let's make random predictions for the first day:"
   ]
  },
  {
   "cell_type": "code",
   "execution_count": null,
   "metadata": {
    "trusted": true,
    "_uuid": "7198d2c094989edce3c6bc95f8c2ccc24eb6f2ed"
   },
   "outputs": [],
   "source": [
    "from pandas.api.types import CategoricalDtype"
   ]
  },
  {
   "cell_type": "code",
   "execution_count": null,
   "metadata": {
    "trusted": true,
    "_uuid": "f527a922bcce560d1223279dfb670709b6241a45"
   },
   "outputs": [],
   "source": [
    "def to_category_type(df, category_columns, categories_list):\n",
    "    for col, categories in zip(category_columns, categories_list):\n",
    "        cat_type = CategoricalDtype(categories=categories)\n",
    "        df[col] = df[col].astype(cat_type)"
   ]
  },
  {
   "cell_type": "code",
   "execution_count": null,
   "metadata": {
    "trusted": true,
    "_uuid": "b5eedd02895e609c0f1b8da3bbf90f903dabcc62",
    "scrolled": true
   },
   "outputs": [],
   "source": [
    "headline_fastText_model = fastText.load_model(FASTTEXT_MODEL_PATH)"
   ]
  },
  {
   "cell_type": "code",
   "execution_count": null,
   "metadata": {
    "trusted": true,
    "_uuid": "5178dfaf62d67e73e903be19a36a6032bc02ac2c"
   },
   "outputs": [],
   "source": [
    "def extract_features(news_df):\n",
    "    return extract_headline_fastText(news_df, headline_fastText_model)"
   ]
  },
  {
   "cell_type": "code",
   "execution_count": null,
   "metadata": {
    "trusted": true,
    "_uuid": "b65d553f5ddc0ca729b5c35754597515c6e53552"
   },
   "outputs": [],
   "source": [
    "def make_predictions(market_obs_df, news_obs_df, predictions_df):\n",
    "    add_ids(market_obs_df, news_obs_df)\n",
    "    fill_missing_value_news_df(news_obs_df)\n",
    "    to_category_type(news_obs_df, category_columns=categorical_features, \n",
    "                     categories_list= news_categories)\n",
    "    encode_categorical_fields(news_df=news_obs_df)\n",
    "    news_features = extract_features(news_df=news_obs_df)\n",
    "    remove_unnecessary_columns(market_obs_df, news_obs_df)\n",
    "    market_obs_df = link_data_and_news(market_obs_df, news_obs_df)\n",
    "    X, market_train_obs_ids, news_train_obs_ids, market_train_obs_times, feature_names = to_X(market_obs_df, news_features, news_feature_names)\n",
    "    predictions_df.confidenceValue[[market_id - 1 for market_id in market_train_obs_ids]] = model.predict(X) * 2 - 1\n",
    "    "
   ]
  },
  {
   "cell_type": "code",
   "execution_count": null,
   "metadata": {
    "trusted": true,
    "_uuid": "64bfaca64180059bbf18a35e06664a948cfe3811"
   },
   "outputs": [],
   "source": [
    "days = env.get_prediction_days()"
   ]
  },
  {
   "cell_type": "code",
   "execution_count": null,
   "metadata": {
    "trusted": true,
    "_uuid": "1e8e841e6af4f54af8d8f85db861d83d7beaaceb"
   },
   "outputs": [],
   "source": [
    "# random prediction for debug\n",
    "# def make_random_predictions(predictions_df):\n",
    "#     predictions_df.confidenceValue = 2.0 * np.random.rand(len(predictions_df)) - 1.0\n",
    "# make_random_predictions(predictions_template_df)\n",
    "# env.predict(predictions_template_df)"
   ]
  },
  {
   "cell_type": "markdown",
   "metadata": {
    "_uuid": "8056b881707072c379ad2e89b9c59c3c041a2ab7"
   },
   "source": [
    "## Main Loop\nLet's loop through all the days and make our random predictions.  The `days` generator (returned from `get_prediction_days`) will simply stop returning values once you've reached the end."
   ]
  },
  {
   "cell_type": "code",
   "execution_count": null,
   "metadata": {
    "trusted": true,
    "_uuid": "5c111bb2494b9a4dd1a39bbec833e7f484adbca4"
   },
   "outputs": [],
   "source": [
    "from tqdm import tqdm"
   ]
  },
  {
   "cell_type": "code",
   "execution_count": null,
   "metadata": {
    "trusted": true,
    "_uuid": "ef60bc52a8a228e5a2ce18e4bd416f1f1f25aeae"
   },
   "outputs": [],
   "source": [
    "%time\n",
    "for (market_obs_df, news_obs_df, predictions_template_df) in tqdm(days):\n",
    "     make_predictions(market_obs_df, news_obs_df, predictions_template_df)\n",
    "     env.predict(predictions_template_df)\n",
    "print('Done!')"
   ]
  },
  {
   "cell_type": "markdown",
   "metadata": {
    "_uuid": "7c8fbcca87c7f6abc53e86408417bf12ce21bb7f"
   },
   "source": [
    " ## **`write_submission_file`** function\n\nWrites your predictions to a CSV file (`submission.csv`) in the current working directory."
   ]
  },
  {
   "cell_type": "code",
   "execution_count": null,
   "metadata": {
    "trusted": true,
    "_uuid": "2c8ed34ffb2c47c6e124530ec798c0b4eb01ddd5"
   },
   "outputs": [],
   "source": [
    "env.write_submission_file()"
   ]
  },
  {
   "cell_type": "code",
   "execution_count": null,
   "metadata": {
    "trusted": true,
    "_uuid": "d38aa8a67cad3f0c105db7e764ec9b805db39ceb"
   },
   "outputs": [],
   "source": [
    "# We've got a submission file!\n",
    "import os\n",
    "print([filename for filename in os.listdir('.') if '.csv' in filename])"
   ]
  },
  {
   "cell_type": "markdown",
   "metadata": {
    "_uuid": "f464f37885ffa763a2592e2867d74685f75be506"
   },
   "source": [
    "As indicated by the helper message, calling `write_submission_file` on its own does **not** make a submission to the competition.  It merely tells the module to write the `submission.csv` file as part of the Kernel's output.  To make a submission to the competition, you'll have to **Commit** your Kernel and find the generated `submission.csv` file in that Kernel Version's Output tab (note this is _outside_ of the Kernel Editor), then click \"Submit to Competition\".  When we re-run your Kernel during Stage Two, we will run the Kernel Version (generated when you hit \"Commit\") linked to your chosen Submission."
   ]
  },
  {
   "cell_type": "markdown",
   "metadata": {
    "_uuid": "2e3a267ea3149403c49ff59515a1a669ca2d1f9f"
   },
   "source": [
    "## Restart the Kernel to run your code again\nIn order to combat cheating, you are only allowed to call `make_env` or iterate through `get_prediction_days` once per Kernel run.  However, while you're iterating on your model it's reasonable to try something out, change the model a bit, and try it again.  Unfortunately, if you try to simply re-run the code, or even refresh the browser page, you'll still be running on the same Kernel execution session you had been running before, and the `twosigmanews` module will still throw errors.  To get around this, you need to explicitly restart your Kernel execution session, which you can do by pressing the Restart button in the Kernel Editor's bottom Console tab:\n![Restart button](https://i.imgur.com/hudu8jF.png)"
   ]
  }
 ],
 "metadata": {
  "kernelspec": {
   "display_name": "Python 3",
   "language": "python",
   "name": "python3"
  },
  "language_info": {
   "name": "python",
   "version": "3.6.6",
   "mimetype": "text/x-python",
   "codemirror_mode": {
    "name": "ipython",
    "version": 3
   },
   "pygments_lexer": "ipython3",
   "nbconvert_exporter": "python",
   "file_extension": ".py"
  }
 },
 "nbformat": 4,
 "nbformat_minor": 1
}
