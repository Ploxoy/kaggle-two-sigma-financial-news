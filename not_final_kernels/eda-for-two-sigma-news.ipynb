{
 "cells": [
  {
   "cell_type": "markdown",
   "metadata": {
    "_uuid": "5ffb21374c7cf4b98e7239045ef9bf312effee25"
   },
   "source": [
    "# Two Sigma Financial News Competition Official Getting Started Kernel\n## Introduction\nIn this competition you will predict how stocks will change based on the market state and news articles.  You will loop through a long series of trading days; for each day, you'll receive an updated state of the market, and a series of news articles which were published since the last trading day, along with impacted stocks and sentiment analysis.  You'll use this information to predict whether each stock will have increased or decreased ten trading days into the future.  Once you make these predictions, you can move on to the next trading day. \n\nThis competition is different from most Kaggle Competitions in that:\n* You can only submit from Kaggle Kernels, and you may not use other data sources, GPU, or internet access.\n* This is a **two-stage competition**.  In Stage One you can edit your Kernels and improve your model, where Public Leaderboard scores are based on their predictions relative to past market data.  At the beginning of Stage Two, your Kernels are locked, and we will re-run your Kernels over the next six months, scoring them based on their predictions relative to live data as those six months unfold.\n* You must use our custom **`kaggle.competitions.twosigmanews`** Python module.  The purpose of this module is to control the flow of information to ensure that you are not using future data to make predictions for the current trading day.\n\n## In this Starter Kernel, we'll show how to use the **`twosigmanews`** module to get the training data, get test features and make predictions, and write the submission file.\n## TL;DR: End-to-End Usage Example\n```\nfrom kaggle.competitions import twosigmanews\nenv = twosigmanews.make_env()\n\n(market_train_df, news_train_df) = env.get_training_data()\ntrain_my_model(market_train_df, news_train_df)\n\nfor (market_obs_df, news_obs_df, predictions_template_df) in env.get_prediction_days():\n  predictions_df = make_my_predictions(market_obs_df, news_obs_df, predictions_template_df)\n  env.predict(predictions_df)\n  \nenv.write_submission_file()\n```\nNote that `train_my_model` and `make_my_predictions` are functions you need to write for the above example to work."
   ]
  },
  {
   "cell_type": "markdown",
   "metadata": {
    "_uuid": "225708f447eee93041881f9d6c3a3e890cb16718"
   },
   "source": [
    "## In-depth Introduction\nFirst let's import the module and create an environment."
   ]
  },
  {
   "cell_type": "code",
   "execution_count": null,
   "metadata": {
    "trusted": true,
    "_uuid": "406332e61223c255f105c6832c3f1e2cafe736f1"
   },
   "outputs": [],
   "source": [
    "import pandas as pd\n",
    "import gc\n",
    "import re\n",
    "import numpy as np"
   ]
  },
  {
   "cell_type": "code",
   "execution_count": null,
   "metadata": {
    "_uuid": "8f2839f25d086af736a60e9eeb907d3b93b6e0e5",
    "_cell_guid": "b1076dfc-b9ad-4769-8c92-a6c4dae69d19",
    "trusted": true
   },
   "outputs": [],
   "source": [
    "from kaggle.competitions import twosigmanews\n",
    "# You can only call make_env() once, so don't lose it!\n",
    "env = twosigmanews.make_env()"
   ]
  },
  {
   "cell_type": "markdown",
   "metadata": {
    "_uuid": "6034b46fce8c9d55d403de32e7cebe8cb9fef96d"
   },
   "source": [
    "## **`get_training_data`** function\n\nReturns the training data DataFrames as a tuple of:\n* `market_train_df`: DataFrame with market training data\n* `news_train_df`: DataFrame with news training data\n\nThese DataFrames contain all market and news data from February 2007 to December 2016.  See the [competition's Data tab](https://www.kaggle.com/c/two-sigma-financial-news/data) for more information on what columns are included in each DataFrame."
   ]
  },
  {
   "cell_type": "code",
   "execution_count": null,
   "metadata": {
    "trusted": true,
    "_uuid": "c20fa6deeac9d374c98774abd90bdc76b023ee63"
   },
   "outputs": [],
   "source": [
    "(market_train_df, news_train_df) = env.get_training_data()"
   ]
  },
  {
   "cell_type": "code",
   "execution_count": null,
   "metadata": {
    "trusted": true,
    "_uuid": "e1cf10a54aea81e0a1c0daf025303bc8027f7d1b"
   },
   "outputs": [],
   "source": [
    "market_train_df.shape"
   ]
  },
  {
   "cell_type": "code",
   "execution_count": null,
   "metadata": {
    "trusted": true,
    "_uuid": "6811a1a76f08b2a029543cf73bcdf4dfca7dc362"
   },
   "outputs": [],
   "source": [
    "market_train_df.head()"
   ]
  },
  {
   "cell_type": "code",
   "execution_count": null,
   "metadata": {
    "trusted": true,
    "_uuid": "84b5a58f67ebded82e6aabc66ca36411e6db35a9"
   },
   "outputs": [],
   "source": [
    "market_train_df.tail()"
   ]
  },
  {
   "cell_type": "code",
   "execution_count": null,
   "metadata": {
    "trusted": true,
    "scrolled": true,
    "_uuid": "8076625bd48afd90ef8d7d09c21c4e084327876a"
   },
   "outputs": [],
   "source": [
    "market_train_df.columns"
   ]
  },
  {
   "cell_type": "code",
   "execution_count": null,
   "metadata": {
    "trusted": true,
    "_uuid": "4b10b0f2e4f7312e14ac8c3a0b24ee0ee062517f"
   },
   "outputs": [],
   "source": [
    "market_train_df.dtypes"
   ]
  },
  {
   "cell_type": "code",
   "execution_count": null,
   "metadata": {
    "trusted": true,
    "_uuid": "72c258fef51fef895ace138c6db9c4b574218118"
   },
   "outputs": [],
   "source": [
    "def add_id(df):\n",
    "    df[\"id\"] = df.index + 1"
   ]
  },
  {
   "cell_type": "code",
   "execution_count": null,
   "metadata": {
    "trusted": true,
    "_uuid": "79f85a420534139a2b5c38489e084b403e629da9"
   },
   "outputs": [],
   "source": [
    "add_id(market_train_df)"
   ]
  },
  {
   "cell_type": "code",
   "execution_count": null,
   "metadata": {
    "trusted": true,
    "_uuid": "114b92ab945af7e7a9a2a5ecac04b66d107b147b"
   },
   "outputs": [],
   "source": [
    "market_train_df[:1]"
   ]
  },
  {
   "cell_type": "code",
   "execution_count": null,
   "metadata": {
    "trusted": true,
    "_uuid": "6eab5568b7dc38e7747cfb26aa34a53b41408c46"
   },
   "outputs": [],
   "source": [
    "def add_confidence(df):\n",
    "    # TODO change confidence by return proportion\n",
    "    df[\"confidence\"] = (df[\"returnsOpenNextMktres10\"] > 0).astype(int)"
   ]
  },
  {
   "cell_type": "code",
   "execution_count": null,
   "metadata": {
    "trusted": true,
    "_uuid": "4eb8986296d80c473396e9d4fe2446c05bf12909"
   },
   "outputs": [],
   "source": [
    "add_confidence(market_train_df)"
   ]
  },
  {
   "cell_type": "code",
   "execution_count": null,
   "metadata": {
    "trusted": true,
    "_uuid": "e88510d7e3285b89b71dca26c38440a7b28f8c8b"
   },
   "outputs": [],
   "source": [
    "market_train_df[:1]"
   ]
  },
  {
   "cell_type": "markdown",
   "metadata": {
    "trusted": true,
    "_uuid": "fca66d0c682360554d631178d4f70e9152abf4e8"
   },
   "source": [
    "# plot data distribution"
   ]
  },
  {
   "cell_type": "code",
   "execution_count": null,
   "metadata": {
    "trusted": true,
    "_uuid": "be63ec667a66daaef14a11c0c5745583f741e317"
   },
   "outputs": [],
   "source": [
    "%matplotlib inline"
   ]
  },
  {
   "cell_type": "code",
   "execution_count": null,
   "metadata": {
    "trusted": true,
    "_uuid": "62ee21f9c62dde7a9dc0c0ba78e637287177538e"
   },
   "outputs": [],
   "source": [
    "import matplotlib.pyplot as plt"
   ]
  },
  {
   "cell_type": "code",
   "execution_count": null,
   "metadata": {
    "trusted": true,
    "_uuid": "88bb7c75590c4fd73fcfc60b104748a22e8bfa33"
   },
   "outputs": [],
   "source": [
    "import seaborn as sns"
   ]
  },
  {
   "cell_type": "markdown",
   "metadata": {
    "_uuid": "7f30facb0e7f8a8a22f9ab2e0b34e10b27e51127"
   },
   "source": [
    "## market train"
   ]
  },
  {
   "cell_type": "code",
   "execution_count": null,
   "metadata": {
    "trusted": true,
    "_uuid": "dcb180b661329ade822b9ce06e5690c80ea585bc"
   },
   "outputs": [],
   "source": [
    "fig, axes = plt.subplots(ncols=2, nrows=7)"
   ]
  },
  {
   "cell_type": "code",
   "execution_count": null,
   "metadata": {
    "trusted": true,
    "_uuid": "d57513da439f10b632d3ebb3f6bf73c0a75a8a49"
   },
   "outputs": [],
   "source": [
    "import itertools"
   ]
  },
  {
   "cell_type": "code",
   "execution_count": null,
   "metadata": {
    "trusted": true,
    "scrolled": true,
    "_uuid": "d21d2cd04c171cf83891aaa7ae9e7709d441e1ac"
   },
   "outputs": [],
   "source": [
    "fig, axes = plt.subplots(ncols=2, nrows=7, sharex=False, sharey=False, figsize=(20, 60))\n",
    "market_columns = market_train_df.columns\n",
    "for idx, ax in enumerate(itertools.chain.from_iterable(axes)):\n",
    "    if idx == 13:\n",
    "        break\n",
    "    col = market_columns[idx+3]\n",
    "    ax.set_title(col)\n",
    "    market_train_df.hist(column=col, ax=ax, bins=500)"
   ]
  },
  {
   "cell_type": "code",
   "execution_count": null,
   "metadata": {
    "trusted": true,
    "_uuid": "e9e9e97d2bd00384a45caba40809d11d15138924"
   },
   "outputs": [],
   "source": [
    "fig, axes = plt.subplots(ncols=2, nrows=7, sharex=False, sharey=False, figsize=(20, 60))\n",
    "market_columns = market_train_df.columns\n",
    "for idx, ax in enumerate(itertools.chain.from_iterable(axes)):\n",
    "    if idx == 13:\n",
    "        break\n",
    "    col = market_columns[idx+3]\n",
    "    ax.set_title(col)\n",
    "    market_train_df.boxplot(column=col, ax=ax)"
   ]
  },
  {
   "cell_type": "markdown",
   "metadata": {
    "_uuid": "d7b49a35f6f8bc2d70b744da53cf14eb2234f616"
   },
   "source": [
    "There are many outliners in each feature except universe."
   ]
  },
  {
   "cell_type": "code",
   "execution_count": null,
   "metadata": {
    "trusted": true,
    "_uuid": "4758a3387c6d2b54f242e52e43539fcfe8f3cfd8"
   },
   "outputs": [],
   "source": [
    "fig, axes = plt.subplots(ncols=2, nrows=7, sharex=False, sharey=False, figsize=(20, 60))\n",
    "market_columns = market_train_df.columns\n",
    "for idx, ax in enumerate(itertools.chain.from_iterable(axes)):\n",
    "    col = market_columns[idx+3]\n",
    "    if idx == 13:\n",
    "        break\n",
    "    ax.set_title(col)\n",
    "    market_train_df[col].apply(np.log1p).hist(ax=ax, bins=100)"
   ]
  },
  {
   "cell_type": "code",
   "execution_count": null,
   "metadata": {
    "trusted": true,
    "_uuid": "d2b2f8690e8b8819b6fb56344bfe25e3e2ccbc5a"
   },
   "outputs": [],
   "source": [
    "fig, axes = plt.subplots(ncols=2, nrows=7, sharex=False, sharey=False, figsize=(20, 60))\n",
    "market_columns = market_train_df.columns\n",
    "for idx, ax in enumerate(itertools.chain.from_iterable(axes)):\n",
    "    col = market_columns[idx+3]\n",
    "    if \"returns\" not in str(col):\n",
    "        continue\n",
    "    if idx == 13:\n",
    "        break\n",
    "    ax.set_title(col)\n",
    "    market_train_df[col].apply(np.log1p).hist(ax=ax, bins=500)"
   ]
  },
  {
   "cell_type": "code",
   "execution_count": null,
   "metadata": {
    "trusted": true,
    "_uuid": "68feea4dc145bc8eceac4cfae3a84c40d78a9ba1",
    "scrolled": false
   },
   "outputs": [],
   "source": [
    "fig, axes = plt.subplots(ncols=2, nrows=7, sharex=False, sharey=False, figsize=(20, 60))\n",
    "market_columns = market_train_df.columns\n",
    "for idx, ax in enumerate(itertools.chain.from_iterable(axes)):\n",
    "    col = market_columns[idx+3]\n",
    "    if \"returns\" not in str(col):\n",
    "        continue\n",
    "    if idx == 13:\n",
    "        break\n",
    "    ax.set_title(col)\n",
    "    seq = market_train_df[col].apply(lambda x: np.log1p(x))\n",
    "    seq = (seq - seq.min()) / (seq.max() - seq.min())\n",
    "    seq.hist(ax=ax, bins=500)"
   ]
  },
  {
   "cell_type": "markdown",
   "metadata": {
    "_uuid": "6944ae6d10a1f3daaf57e3cde9eda939d36fb589"
   },
   "source": [
    "# NEWS"
   ]
  },
  {
   "cell_type": "code",
   "execution_count": null,
   "metadata": {
    "trusted": true,
    "_uuid": "25115010e14ef3497932902db0cef68501ddca11"
   },
   "outputs": [],
   "source": [
    "news_train_df.head()"
   ]
  },
  {
   "cell_type": "code",
   "execution_count": null,
   "metadata": {
    "trusted": true,
    "_uuid": "cdc6b9842073bcb7d63cddc30e5bd7826ccfdfa1"
   },
   "outputs": [],
   "source": [
    "news_train_df.tail()"
   ]
  },
  {
   "cell_type": "code",
   "execution_count": null,
   "metadata": {
    "trusted": true,
    "_uuid": "4abd1c351c9a5450cd24a0b75abbd146772e3322"
   },
   "outputs": [],
   "source": [
    "news_train_df.columns"
   ]
  },
  {
   "cell_type": "code",
   "execution_count": null,
   "metadata": {
    "trusted": true,
    "scrolled": false,
    "_uuid": "75eb5e2d1665e536e2d23aec0894ce764984c037"
   },
   "outputs": [],
   "source": [
    "news_train_df.dtypes"
   ]
  },
  {
   "cell_type": "code",
   "execution_count": null,
   "metadata": {
    "trusted": true,
    "_uuid": "e7a1c0dfc14e52510faa449b818082510bb8bb55"
   },
   "outputs": [],
   "source": [
    "news_train_df.shape"
   ]
  },
  {
   "cell_type": "code",
   "execution_count": null,
   "metadata": {
    "trusted": true,
    "_uuid": "384bdb830303eedd7b72fbf09869e9d5603a02ab"
   },
   "outputs": [],
   "source": [
    "NEWS_NUMERIC_AND_CATEGORICAL_COLUMNS = [\n",
    "       'urgency', 'takeSequence', 'provider',\n",
    "       'bodySize', 'companyCount', 'headlineTag', 'marketCommentary',\n",
    "       'sentenceCount', 'wordCount', 'assetName',\n",
    "       'firstMentionSentence', 'relevance', 'sentimentClass',\n",
    "       'sentimentNegative', 'sentimentNeutral', 'sentimentPositive',\n",
    "       'sentimentWordCount', 'noveltyCount12H', 'noveltyCount24H',\n",
    "       'noveltyCount3D', 'noveltyCount5D', 'noveltyCount7D', 'volumeCounts12H',\n",
    "       'volumeCounts24H', 'volumeCounts3D', 'volumeCounts5D',\n",
    "       'volumeCounts7D']"
   ]
  },
  {
   "cell_type": "code",
   "execution_count": null,
   "metadata": {
    "trusted": true,
    "_uuid": "cce11487f52fea7d21f718a93edfc1abb93fc662"
   },
   "outputs": [],
   "source": [
    "news_train_df.headlineTag = news_train_df.headlineTag.astype(\"category\")"
   ]
  },
  {
   "cell_type": "code",
   "execution_count": null,
   "metadata": {
    "trusted": true,
    "_uuid": "895af006181d0e05995a94715db5b4683307d9d5"
   },
   "outputs": [],
   "source": [
    "news_train_df.sentimentClass = news_train_df.sentimentClass.astype(\"category\")"
   ]
  },
  {
   "cell_type": "code",
   "execution_count": null,
   "metadata": {
    "trusted": true,
    "_uuid": "118aafa6df641c2a1ba02e02cd1fcd85044a7d6c"
   },
   "outputs": [],
   "source": [
    "import seaborn as sns"
   ]
  },
  {
   "cell_type": "code",
   "execution_count": null,
   "metadata": {
    "trusted": true,
    "_uuid": "26e4f77f57a91cee95d03b82a4b0a56d6187adf4",
    "scrolled": true
   },
   "outputs": [],
   "source": [
    "fig, axes = plt.subplots(ncols=2, nrows= len(NEWS_NUMERIC_AND_CATEGORICAL_COLUMNS) // 2 + int(bool(len(NEWS_NUMERIC_AND_CATEGORICAL_COLUMNS) % 2)), sharex=False, sharey=False, figsize=(20, 60))\n",
    "for idx, ax in enumerate(itertools.chain.from_iterable(axes)):\n",
    "    if idx >= len(NEWS_NUMERIC_AND_CATEGORICAL_COLUMNS):\n",
    "        break\n",
    "    col = NEWS_NUMERIC_AND_CATEGORICAL_COLUMNS[idx]\n",
    "    ax.set_title(col)\n",
    "    seq = news_train_df[col] \n",
    "    if seq.dtype.name == 'category':\n",
    "        seq = seq.value_counts()\n",
    "    if seq.dtype.name == 'bool':\n",
    "        seq = seq.astype(\"int\")\n",
    "    \n",
    "    sns.distplot(seq, ax=ax)"
   ]
  },
  {
   "cell_type": "code",
   "execution_count": null,
   "metadata": {
    "trusted": true,
    "_uuid": "df9b9c81944c565d80364a7026040ef4a023f32a"
   },
   "outputs": [],
   "source": [
    "fig, axes = plt.subplots(ncols=2, nrows= len(NEWS_NUMERIC_AND_CATEGORICAL_COLUMNS) // 2 + int(bool(len(NEWS_NUMERIC_AND_CATEGORICAL_COLUMNS) % 2)), sharex=False, sharey=False, figsize=(20, 60))\n",
    "for idx, ax in enumerate(itertools.chain.from_iterable(axes)):\n",
    "    if idx >= len(NEWS_NUMERIC_AND_CATEGORICAL_COLUMNS):\n",
    "        break\n",
    "    col = NEWS_NUMERIC_AND_CATEGORICAL_COLUMNS[idx]\n",
    "    ax.set_title(col)\n",
    "    seq = news_train_df[col] \n",
    "    if seq.dtype.name == 'category' or seq.dtype.name == 'bool':\n",
    "        continue\n",
    "    seq = seq.apply(np.log1p)\n",
    "    sns.distplot(seq, ax=ax)"
   ]
  },
  {
   "cell_type": "code",
   "execution_count": null,
   "metadata": {
    "trusted": true,
    "_uuid": "c16daa9b288d63f4864461d6a737bba8b51e3391"
   },
   "outputs": [],
   "source": [
    "fig, axes = plt.subplots(ncols=2, nrows= len(NEWS_NUMERIC_AND_CATEGORICAL_COLUMNS) // 2 + int(bool(len(NEWS_NUMERIC_AND_CATEGORICAL_COLUMNS) % 2)), sharex=False, sharey=False, figsize=(20, 60))\n",
    "for idx, ax in enumerate(itertools.chain.from_iterable(axes)):\n",
    "    if idx >= len(NEWS_NUMERIC_AND_CATEGORICAL_COLUMNS):\n",
    "        break\n",
    "    col = NEWS_NUMERIC_AND_CATEGORICAL_COLUMNS[idx]\n",
    "    ax.set_title(col)\n",
    "    seq = news_train_df[col] \n",
    "    if seq.dtype.name == 'category' or seq.dtype.name == 'bool':\n",
    "        continue\n",
    "    seq = seq.apply(lambda x: np.log1p(np.log1p(x)))\n",
    "    sns.distplot(seq, ax=ax)"
   ]
  },
  {
   "cell_type": "markdown",
   "metadata": {
    "_uuid": "6038b800d82df348d5c2973b9dfc8d2e2b64bbc8"
   },
   "source": [
    "## headline"
   ]
  },
  {
   "cell_type": "code",
   "execution_count": null,
   "metadata": {
    "trusted": true,
    "_uuid": "e45938369c1a79802af369d0aa8f424c1ea255b7"
   },
   "outputs": [],
   "source": [
    "print(\"headline max length: {}\".format(news_train_df.headline.apply(len).max()))"
   ]
  },
  {
   "cell_type": "code",
   "execution_count": null,
   "metadata": {
    "trusted": true,
    "_uuid": "fbb10702e6887e55d2d91e1bc0c0c76f02b31dde"
   },
   "outputs": [],
   "source": [
    "news_train_df.headline.apply(len).plot.hist()"
   ]
  },
  {
   "cell_type": "markdown",
   "metadata": {
    "_uuid": "b4e4c4831d3cbcb6d91dec13f404db3b6267b849"
   },
   "source": [
    "# fill null values\n\n\n"
   ]
  },
  {
   "cell_type": "code",
   "execution_count": null,
   "metadata": {
    "trusted": true,
    "_uuid": "5f8d1609b74ed9ea5035a7cd632f24b99d76015e"
   },
   "outputs": [],
   "source": [
    "def replace_null_news(df):\n",
    "    df.provider = df.provider.cat.add_categories([\"UNKNOWN\"])\n",
    "    df.provider.fillna(\"UNKNOWN\", inplace=True)\n",
    "    df.audiences = df.audiences.cat.add_categories([\"UNKNOWN\"])\n",
    "    df.audiences.fillna(\"UNKNOWN\", inplace=True)"
   ]
  },
  {
   "cell_type": "markdown",
   "metadata": {
    "_uuid": "f6d2aa535f025c04dcd0011689413b5198458c47"
   },
   "source": [
    "# Feature Extraction"
   ]
  },
  {
   "cell_type": "code",
   "execution_count": null,
   "metadata": {
    "trusted": true,
    "_uuid": "ed2f24d2610453a08c1105187f10c5e1cb60182d"
   },
   "outputs": [],
   "source": [
    ""
   ]
  },
  {
   "cell_type": "markdown",
   "metadata": {
    "_uuid": "c4448e59ee2d9c8e2938921d5b86748c486005e0"
   },
   "source": [
    "# remove unnecc"
   ]
  },
  {
   "cell_type": "code",
   "execution_count": null,
   "metadata": {
    "trusted": true,
    "_uuid": "eeebb99198b5c7e84928cbd2e55f6d684c0380dd"
   },
   "outputs": [],
   "source": [
    "def remove_unnecessary_columns(market_df, news_df):\n",
    "    news_df.drop(['time', 'sourceId', 'sourceTimestamp', 'headline', \n",
    "                   \"subjects\", \"audiences\"], axis=1, inplace=True)"
   ]
  },
  {
   "cell_type": "code",
   "execution_count": null,
   "metadata": {
    "trusted": true,
    "_uuid": "dca92881831c520fdccfc9baca75d67d4aaaf1fc"
   },
   "outputs": [],
   "source": [
    "remove_unnecessary_columns(market_train_df, news_train_df)"
   ]
  },
  {
   "cell_type": "markdown",
   "metadata": {
    "_uuid": "9a3ea0ffe20f1f014e7f1daedaf28ed22728f1fa"
   },
   "source": [
    "# link data and news "
   ]
  },
  {
   "cell_type": "markdown",
   "metadata": {
    "_uuid": "fae5b40023b00649db5f161e1daf9cd06aefd7c4"
   },
   "source": [
    "## check assecName links"
   ]
  },
  {
   "cell_type": "code",
   "execution_count": null,
   "metadata": {
    "trusted": true,
    "_uuid": "ae1f1b12c9fecf53daf560f07601b39daa81f05e"
   },
   "outputs": [],
   "source": [
    "#market_train_df.duplicated(subset=[\"time\", \"assetName\"]).sum()"
   ]
  },
  {
   "cell_type": "code",
   "execution_count": null,
   "metadata": {
    "trusted": true,
    "_uuid": "4089722b577952d27aa2138cbd00b7aed0ca908b"
   },
   "outputs": [],
   "source": [
    " #     asset_names_in_markets = set(market_df.assetName.unique().tolist())\n",
    "    #     print(\"asset : {} \" % len(asset_names_in_markets))\n",
    "    #     asset_names_in_news = set(news_df.assetName.unique().tolist())\n",
    "    #     asset_names_in_news_size = len(asset_names_in_news)\n",
    "    # len(asset_names_in_news - asset_names_in_markets)\n",
    "    # asset_names_not_in_news = asset_names_in_markets - asset_names_in_news\n",
    "    # asset_names_not_in_news\n",
    "    # len(asset_names_not_in_news)\n",
    "    # There  are 73 assets 'not having any news in news df.\n",
    "    # asset_names_not_in_market = asset_names_in_news - asset_names_in_markets\n",
    "    # list(asset_names_not_in_market)[:100]\n",
    "    # len(asset_names_not_in_market)\n",
    "    # asset_names_in_both_market_and_news = asset_names_in_news & asset_names_in_markets\n",
    "    # len(asset_names_in_both_market_and_news)\n",
    "    # only 3483 / 8902 news have linking market information.\n",
    "    # TODO drop if assetCode is null"
   ]
  },
  {
   "cell_type": "code",
   "execution_count": null,
   "metadata": {
    "trusted": true,
    "_uuid": "a89c2e2340de394b7c946b335f8d741cf12f8124"
   },
   "outputs": [],
   "source": [
    "MAX_DAY_DIFF = 3\n",
    "MULTIPLE_CODES_PATTERN = re.compile(r\"[{}'']\")\n",
    "import itertools\n",
    "def link_data_and_news(market_df, news_df):\n",
    "    assetCodes_in_markests = market_df.assetCode.unique()\n",
    "    print(\"assetCodes pattern in markets: {}\".format(len(assetCodes_in_markests)))\n",
    "    assetCodes_in_news = news_df.assetCodes.unique()\n",
    "    assetCodes_in_news_size = len(assetCodes_in_news)\n",
    "    print(\"assetCodes pattern in news: {}\".format(assetCodes_in_news_size))\n",
    "    parse_multiple_codes = lambda codes: re.sub(r\"[{}'']\", \"\", str(codes)).split(\", \")\n",
    "    parsed_assetCodes_in_news = [parse_multiple_codes(str(codes)) for codes in assetCodes_in_news]\n",
    "    # len(max(parsed_assetCodes_in_news, key=lambda x: len(x)))\n",
    "    all_assetCode_type_in_news = list(set(itertools.chain.from_iterable(assetCodes_in_news)))\n",
    "    # check linking\n",
    "    links_assetCodes = [[[raw_codes, market_assetCode] for parsed_codes, raw_codes in zip(parsed_assetCodes_in_news, assetCodes_in_news) if str(market_assetCode) in parsed_codes] for market_assetCode in assetCodes_in_markests]\n",
    "    links_assetCodes = list(itertools.chain.from_iterable(links_assetCodes))\n",
    "    print(\"links for assetCodes: {}\".format(len(links_assetCodes)))\n",
    "    links_assetCodes = pd.DataFrame(links_assetCodes, columns=[\"newsAssetCodes\", \"marketAssetCode\"], dtype='category')\n",
    "\n",
    "    ## check date linking\n",
    "    news_df[\"firstCreatedDate\"] = news_df.firstCreated.dt.date\n",
    "    market_df[\"date\"] = market_df.time.dt.date\n",
    "\n",
    "    working_dates = news_df.firstCreatedDate.unique().astype(np.datetime64)\n",
    "    working_dates.sort()\n",
    "    market_dates = market_df.date.unique().astype(np.datetime64)\n",
    "    market_dates.sort()\n",
    "\n",
    "\n",
    "    def find_prev_date(date):\n",
    "        for diff_day in range(1, MAX_DAY_DIFF + 1):\n",
    "            prev_date = date - np.timedelta64(diff_day, 'D')\n",
    "            if len(np.searchsorted(working_dates, prev_date)) > 0:\n",
    "                return prev_date\n",
    "        return None\n",
    "\n",
    "    prev_news_days_for_market_day = np.apply_along_axis(arr=market_dates, func1d=find_prev_date, axis=0) \n",
    "\n",
    "    prev_news_days_for_market_day[:10]\n",
    "\n",
    "    prev_news_days_for_market_day[-10:]\n",
    "\n",
    "    date_df = pd.DataFrame(columns=[\"date\", \"prevDate\"])\n",
    "\n",
    "    date_df.date = market_dates\n",
    "\n",
    "    date_df.prevDate = prev_news_days_for_market_day\n",
    "\n",
    "    date_df[:10]\n",
    "\n",
    "    date_df.dtypes\n",
    "\n",
    "    market_df.date = market_df.date.astype(np.datetime64)\n",
    "\n",
    "    market_df.dtypes\n",
    "\n",
    "    market_df.date.dtype\n",
    "\n",
    "    market_df = market_df.merge(date_df, left_on=\"date\", right_on=\"date\")\n",
    "\n",
    "    market_df[:10]\n",
    "\n",
    "    del date_df\n",
    "    gc.collect()\n",
    "\n",
    "    ## merge assetCodes links\n",
    "\n",
    "    market_df = market_df.merge(links_assetCodes, left_on=\"assetCode\", right_on=\"marketAssetCode\")\n",
    "\n",
    "    market_df[:10]\n",
    "\n",
    "    market_df.drop([\"marketAssetCode\"], axis=1, inplace=True)\n",
    "\n",
    "    del links_assetCodes\n",
    "    gc.collect()\n",
    "    ## merge market and news\n",
    "\n",
    "    news_df.firstCreatedDate = news_df.firstCreatedDate.astype(np.datetime64)\n",
    "\n",
    "    news_df.columns\n",
    "\n",
    "    news_df[:10]\n",
    "\n",
    "    #news_time_link_df = news_df[[\"sourceId\", \"assetCodes\", \"firstCreated\", \"firstCreatedDate\"]]\n",
    "\n",
    "    #news_time_link_df.loc[:, \"market_id\"] = None\n",
    "\n",
    "    #news_time_link_df[:1]\n",
    "\n",
    "    #market_df.columns\n",
    "\n",
    "    #market_time_link_df = market_df[[\"id\", \"time\", \"assetCode\", \"date\", \"prevDate\"]]\n",
    "\n",
    "    # type(news_time_link_df.index.values.tolist()[0])\n",
    "\n",
    "\n",
    "    gc.collect()\n",
    "\n",
    "\n",
    "    market_df_today_news = market_df.merge(news_df, left_on=[\"newsAssetCodes\", \"date\"], \n",
    "                                           right_on=[\"assetCodes\", \"firstCreatedDate\"])\n",
    "\n",
    "    market_df_today_news.shape\n",
    "\n",
    "    market_df_today_news[:1]\n",
    "\n",
    "    # remove news after market obs\n",
    "    market_df_today_news = market_df_today_news[market_df_today_news[\"time\"] > market_df_today_news[\"firstCreated\"]]\n",
    "\n",
    "    market_df_today_news.shape\n",
    "\n",
    "    market_df_today_news.sort_values(by=[\"firstCreated\"], inplace=True)\n",
    "\n",
    "    market_df_today_news[:10]\n",
    "\n",
    "    # only leave latest news\n",
    "    market_df_today_news.drop_duplicates(subset=[\"id\"], keep=\"last\", inplace=True)\n",
    "\n",
    "    market_df_today_news[:10]\n",
    "\n",
    "    market_df_today_news.shape\n",
    "\n",
    "    gc.collect()\n",
    "\n",
    "    market_df_prev_day_news = market_df.merge(news_df, left_on=[\"newsAssetCodes\", \"prevDate\"], \n",
    "                                           right_on=[\"assetCodes\", \"firstCreatedDate\"])\n",
    "\n",
    "    market_df_prev_day_news.shape\n",
    "\n",
    "    market_df_prev_day_news.sort_values(by=[\"firstCreated\"], inplace=True)\n",
    "\n",
    "    # only leave latest news\n",
    "    market_df_prev_day_news.drop_duplicates(subset=[\"id\"], keep=\"last\", inplace=True)\n",
    "\n",
    "    market_df_prev_day_news.shape\n",
    "\n",
    "    del market_df\n",
    "\n",
    "    gc.collect()\n",
    "\n",
    "    market_df = pd.concat([market_df_prev_day_news, market_df_today_news]).sort_values([\"firstCreated\"])\n",
    "\n",
    "    market_df.shape\n",
    "\n",
    "    del market_df_prev_day_news\n",
    "\n",
    "    del market_df_today_news\n",
    "\n",
    "    gc.collect()\n",
    "\n",
    "    market_df.drop_duplicates(subset=[\"id\"], keep=\"last\", inplace=True)\n",
    "\n",
    "    return market_df"
   ]
  },
  {
   "cell_type": "code",
   "execution_count": null,
   "metadata": {
    "trusted": true,
    "_uuid": "8e76f174025e6eec29af76ca5951b924450fa113"
   },
   "outputs": [],
   "source": [
    "market_train_df = link_data_and_news(market_train_df, news_train_df)"
   ]
  },
  {
   "cell_type": "code",
   "execution_count": null,
   "metadata": {
    "trusted": true,
    "_uuid": "67cb52fb836b4aadee28422aab6e8df1e662258c"
   },
   "outputs": [],
   "source": [
    "del news_train_df"
   ]
  },
  {
   "cell_type": "code",
   "execution_count": null,
   "metadata": {
    "trusted": true,
    "_uuid": "e09c41f266e51d070a8cd400dbad9e90eff259fe"
   },
   "outputs": [],
   "source": [
    "gc.collect()"
   ]
  },
  {
   "cell_type": "code",
   "execution_count": null,
   "metadata": {
    "trusted": true,
    "_uuid": "1bd623267bea12f753d938ffc4f03a155e647bb6"
   },
   "outputs": [],
   "source": [
    "# this code is very slow\n",
    "# def link_latest_news(row, date_col):\n",
    "#     predict_time = row[\"time\"]\n",
    "#     predict_date = row[date_col]\n",
    "#     asset_code = row[\"assetCode\"]\n",
    "#     market_id = row[\"id\"]\n",
    "    \n",
    "#     latest_news_df = news_time_link_df[news_time_link_df[\"firstCreatedDate\"] == predict_date][[\"assetCodes\"]]\n",
    "#     latest_news_df = latest_news_df[latest_news_df.assetCodes.apply(lambda codes: asset_code in re.sub(r\"[{}'']\", \"\", str(codes)).split(\", \"))]\n",
    "#     news_time_link_df.iloc[latest_news_df.index.values.tolist(), -1] = market_id"
   ]
  },
  {
   "cell_type": "code",
   "execution_count": null,
   "metadata": {
    "trusted": true,
    "_uuid": "7bfcbc45f563dcdd05cb448b3d547adf169d02c0"
   },
   "outputs": [],
   "source": [
    "raise Error()"
   ]
  },
  {
   "cell_type": "code",
   "execution_count": null,
   "metadata": {
    "trusted": true,
    "_uuid": "8fe7af7316b0868952a8d34224b9a8b1c7fb63c2"
   },
   "outputs": [],
   "source": [
    ""
   ]
  },
  {
   "cell_type": "markdown",
   "metadata": {
    "trusted": true,
    "_uuid": "840aa03b49d675953f080e4069f79f435282bb43"
   },
   "source": [
    "## `get_prediction_days` function\n\nGenerator which loops through each \"prediction day\" (trading day) and provides all market and news observations which occurred since the last data you've received.  Once you call **`predict`** to make your future predictions, you can continue on to the next prediction day.\n\nYields:\n* While there are more prediction day(s) and `predict` was called successfully since the last yield, yields a tuple of:\n    * `market_observations_df`: DataFrame with market observations for the next prediction day.\n    * `news_observations_df`: DataFrame with news observations for the next prediction day.\n    * `predictions_template_df`: DataFrame with `assetCode` and `confidenceValue` columns, prefilled with `confidenceValue = 0`, to be filled in and passed back to the `predict` function.\n* If `predict` has not been called since the last yield, yields `None`."
   ]
  },
  {
   "cell_type": "code",
   "execution_count": null,
   "metadata": {
    "trusted": true,
    "_uuid": "724c38149860c8e9058474ac9045c2301e8a20da"
   },
   "outputs": [],
   "source": [
    "# You can only iterate through a result from `get_prediction_days()` once\n",
    "# so be careful not to lose it once you start iterating.\n",
    "days = env.get_prediction_days()"
   ]
  },
  {
   "cell_type": "code",
   "execution_count": null,
   "metadata": {
    "trusted": true,
    "_uuid": "8d5781f889893e3e34b054687fd538c1a76bfdcc"
   },
   "outputs": [],
   "source": [
    "(market_obs_df, news_obs_df, predictions_template_df) = next(days)"
   ]
  },
  {
   "cell_type": "code",
   "execution_count": null,
   "metadata": {
    "trusted": true,
    "_uuid": "fe1cb6accc3536258e7687c64ab3e5e5caa6334a"
   },
   "outputs": [],
   "source": [
    "market_obs_df.head()"
   ]
  },
  {
   "cell_type": "code",
   "execution_count": null,
   "metadata": {
    "trusted": true,
    "_uuid": "7f5b3cfd4520d47b229392f043378b8170689d8e"
   },
   "outputs": [],
   "source": [
    "market_obs_df.columns"
   ]
  },
  {
   "cell_type": "code",
   "execution_count": null,
   "metadata": {
    "trusted": true,
    "_uuid": "9eaf93d3156664a93798542b88ffb48ac1069539"
   },
   "outputs": [],
   "source": [
    "market_obs_df.time.max()"
   ]
  },
  {
   "cell_type": "code",
   "execution_count": null,
   "metadata": {
    "trusted": true,
    "_uuid": "8dba9e7d1c0b8fa7ece350cdfff047e95d5c6ea8"
   },
   "outputs": [],
   "source": [
    "market_obs_df.time.min()"
   ]
  },
  {
   "cell_type": "code",
   "execution_count": null,
   "metadata": {
    "trusted": true,
    "_uuid": "11c5b072aefdd54e6fbe9ae71dc3ea41909ade19"
   },
   "outputs": [],
   "source": [
    "news_obs_df.head()"
   ]
  },
  {
   "cell_type": "code",
   "execution_count": null,
   "metadata": {
    "trusted": true,
    "_uuid": "dfa8bcae9ff15052cd42cbd5c3e5af94d7d25529"
   },
   "outputs": [],
   "source": [
    "news_obs_df.time.max()"
   ]
  },
  {
   "cell_type": "code",
   "execution_count": null,
   "metadata": {
    "trusted": true,
    "_uuid": "01726d80e983c82c24e2d73d1c5941cc52a80d92"
   },
   "outputs": [],
   "source": [
    "news_obs_df.time.min()"
   ]
  },
  {
   "cell_type": "code",
   "execution_count": null,
   "metadata": {
    "trusted": true,
    "_uuid": "f99f6364881767a4071da9ea19e18163a7ce066b"
   },
   "outputs": [],
   "source": [
    "predictions_template_df.head()"
   ]
  },
  {
   "cell_type": "markdown",
   "metadata": {
    "_uuid": "11e95f2e3d493ee6e1023c7a4191310adde5d2bf"
   },
   "source": [
    "Note that we'll get an error if we try to continue on to the next prediction day without making our predictions for the current day."
   ]
  },
  {
   "cell_type": "code",
   "execution_count": null,
   "metadata": {
    "trusted": true,
    "_uuid": "b8ac953a3afbfca2fb200bbf8f0f7339bec7e6f1"
   },
   "outputs": [],
   "source": [
    "next(days)"
   ]
  },
  {
   "cell_type": "markdown",
   "metadata": {
    "trusted": true,
    "_uuid": "ba72731adf652d6011652e906d8b340d6572904e"
   },
   "source": [
    "### **`predict`** function\nStores your predictions for the current prediction day.  Expects the same format as you saw in `predictions_template_df` returned from `get_prediction_days`.\n\nArgs:\n* `predictions_df`: DataFrame which must have the following columns:\n    * `assetCode`: The market asset.\n    * `confidenceValue`: Your confidence whether the asset will increase or decrease in 10 trading days.  All values must be in the range `[-1.0, 1.0]`.\n\nThe `predictions_df` you send **must** contain the exact set of rows which were given to you in the `predictions_template_df` returned from `get_prediction_days`.  The `predict` function does not validate this, but if you are missing any `assetCode`s or add any extraneous `assetCode`s, then your submission will fail."
   ]
  },
  {
   "cell_type": "markdown",
   "metadata": {
    "_uuid": "9cd8317a5e52180b592ee2abc1d2177214642a3c"
   },
   "source": [
    "Let's make random predictions for the first day:"
   ]
  },
  {
   "cell_type": "code",
   "execution_count": null,
   "metadata": {
    "trusted": true,
    "_uuid": "0fd399991099a6299068483c659e80ba76fbdf2f"
   },
   "outputs": [],
   "source": [
    "raise ValueError()"
   ]
  },
  {
   "cell_type": "code",
   "execution_count": null,
   "metadata": {
    "trusted": true,
    "_uuid": "a3f2197ed790f1aff1356a6954575fde976a4935"
   },
   "outputs": [],
   "source": [
    "import numpy as np\n",
    "def make_random_predictions(predictions_df):\n",
    "    predictions_df.confidenceValue = 2.0 * np.random.rand(len(predictions_df)) - 1.0"
   ]
  },
  {
   "cell_type": "code",
   "execution_count": null,
   "metadata": {
    "trusted": true,
    "_uuid": "ca72b7003f24f4aa0c4afe25b600aae31abd64d5"
   },
   "outputs": [],
   "source": [
    "make_random_predictions(predictions_template_df)\n",
    "env.predict(predictions_template_df)"
   ]
  },
  {
   "cell_type": "markdown",
   "metadata": {
    "_uuid": "ff62c167b459c5895383fb05fd9260c14be8c1b8"
   },
   "source": [
    "Now we can continue on to the next prediction day and make another round of random predictions for it:"
   ]
  },
  {
   "cell_type": "code",
   "execution_count": null,
   "metadata": {
    "trusted": true,
    "_uuid": "4e2293d44aad86d09d25326c4ede6f566ab69721"
   },
   "outputs": [],
   "source": [
    "(market_obs_df, news_obs_df, predictions_template_df) = next(days)"
   ]
  },
  {
   "cell_type": "code",
   "execution_count": null,
   "metadata": {
    "trusted": true,
    "_uuid": "140aee54dc838549f87f041a97c7a809ee4e0f6f"
   },
   "outputs": [],
   "source": [
    "market_obs_df.head()"
   ]
  },
  {
   "cell_type": "code",
   "execution_count": null,
   "metadata": {
    "trusted": true,
    "_uuid": "0fb5b9d18fe9318f2205e618384ca26c4fc5b36d"
   },
   "outputs": [],
   "source": [
    "news_obs_df.time.max()"
   ]
  },
  {
   "cell_type": "code",
   "execution_count": null,
   "metadata": {
    "trusted": true,
    "_uuid": "b02d43dec4b881564cd43ff6239c7aa97d94a7af"
   },
   "outputs": [],
   "source": [
    "news_obs_df.head()"
   ]
  },
  {
   "cell_type": "code",
   "execution_count": null,
   "metadata": {
    "trusted": true,
    "_uuid": "9e96182a25f09c03e3f3f84a503d3c7539c5f772"
   },
   "outputs": [],
   "source": [
    "news_obs_df.time.max()"
   ]
  },
  {
   "cell_type": "code",
   "execution_count": null,
   "metadata": {
    "trusted": true,
    "_uuid": "675b360e702526459f4849b8e131f8845b2f14f2"
   },
   "outputs": [],
   "source": [
    "news_obs_df.time.min()"
   ]
  },
  {
   "cell_type": "code",
   "execution_count": null,
   "metadata": {
    "trusted": true,
    "_uuid": "5233f1b22f5ddac08adb50bbaa6444a0da4a24bc"
   },
   "outputs": [],
   "source": [
    "predictions_template_df.head()"
   ]
  },
  {
   "cell_type": "code",
   "execution_count": null,
   "metadata": {
    "trusted": true,
    "_uuid": "a19142739096135d237e2837d8e10c992e53a6e5"
   },
   "outputs": [],
   "source": [
    "make_random_predictions(predictions_template_df)\n",
    "env.predict(predictions_template_df)"
   ]
  },
  {
   "cell_type": "code",
   "execution_count": null,
   "metadata": {
    "trusted": true,
    "_uuid": "266b5ae80609eab46e5ada01fd77c6ad2d312e23"
   },
   "outputs": [],
   "source": [
    "(market_obs_df, news_obs_df, predictions_template_df) = next(days)"
   ]
  },
  {
   "cell_type": "code",
   "execution_count": null,
   "metadata": {
    "trusted": true,
    "_uuid": "266c4f677ba29ce24cf8b5290980eb9fb3f35441"
   },
   "outputs": [],
   "source": [
    "market_obs_df.time.max()"
   ]
  },
  {
   "cell_type": "code",
   "execution_count": null,
   "metadata": {
    "trusted": true,
    "_uuid": "cc4608e5a2388ed477e1680ceb5dcf3b3c3a2dd1"
   },
   "outputs": [],
   "source": [
    "market_obs_df.time.min()"
   ]
  },
  {
   "cell_type": "code",
   "execution_count": null,
   "metadata": {
    "trusted": true,
    "_uuid": "ca399e24d1ccdc62d04ccc695f3c0f3bc5c6ac0a"
   },
   "outputs": [],
   "source": [
    "news_obs_df.head()"
   ]
  },
  {
   "cell_type": "code",
   "execution_count": null,
   "metadata": {
    "trusted": true,
    "_uuid": "07aad20f2b74847943bac47bb996f37b559ab5a4"
   },
   "outputs": [],
   "source": [
    "news_obs_df.time.max()"
   ]
  },
  {
   "cell_type": "code",
   "execution_count": null,
   "metadata": {
    "trusted": true,
    "_uuid": "1b4a14e5de292bd10604aedf3ca61fc771f5b859"
   },
   "outputs": [],
   "source": [
    "news_obs_df.time.min()"
   ]
  },
  {
   "cell_type": "code",
   "execution_count": null,
   "metadata": {
    "trusted": true,
    "_uuid": "9cebe523e38a20d2bd93337c86b1eba4f01197e4"
   },
   "outputs": [],
   "source": [
    ""
   ]
  },
  {
   "cell_type": "code",
   "execution_count": null,
   "metadata": {
    "trusted": true,
    "_uuid": "a19142739096135d237e2837d8e10c992e53a6e5"
   },
   "outputs": [],
   "source": [
    "make_random_predictions(predictions_template_df)\n",
    "env.predict(predictions_template_df)"
   ]
  },
  {
   "cell_type": "code",
   "execution_count": null,
   "metadata": {
    "trusted": true,
    "_uuid": "c0beeb3d837e3102690db1b27a1d9147850270df"
   },
   "outputs": [],
   "source": [
    "(market_obs_df, news_obs_df, predictions_template_df) = next(days)"
   ]
  },
  {
   "cell_type": "code",
   "execution_count": null,
   "metadata": {
    "trusted": true,
    "_uuid": "91abc36d838304478cd8e0936b51cc089f39af89"
   },
   "outputs": [],
   "source": [
    "market_obs_df.time.max()"
   ]
  },
  {
   "cell_type": "code",
   "execution_count": null,
   "metadata": {
    "trusted": true,
    "_uuid": "0982814e1e0551c54517e6917eb6bf6f0e474a2a"
   },
   "outputs": [],
   "source": [
    "market_obs_df.time.min()"
   ]
  },
  {
   "cell_type": "code",
   "execution_count": null,
   "metadata": {
    "trusted": true,
    "_uuid": "f45bc08e103fae07ab576e6d04231c72241d74dd"
   },
   "outputs": [],
   "source": [
    "news_obs_df.head()"
   ]
  },
  {
   "cell_type": "code",
   "execution_count": null,
   "metadata": {
    "trusted": true,
    "_uuid": "8b0c3342081deb24872fdc3d5a63b823d3ff1937"
   },
   "outputs": [],
   "source": [
    "news_obs_df.time.max()"
   ]
  },
  {
   "cell_type": "code",
   "execution_count": null,
   "metadata": {
    "trusted": true,
    "_uuid": "646b1373f398ca155d02fb1dd23191f5e9078f84"
   },
   "outputs": [],
   "source": [
    "news_obs_df.time.min()"
   ]
  },
  {
   "cell_type": "code",
   "execution_count": null,
   "metadata": {
    "trusted": true,
    "_uuid": "a19142739096135d237e2837d8e10c992e53a6e5"
   },
   "outputs": [],
   "source": [
    "make_random_predictions(predictions_template_df)\n",
    "env.predict(predictions_template_df)"
   ]
  },
  {
   "cell_type": "code",
   "execution_count": null,
   "metadata": {
    "trusted": true,
    "_uuid": "ccb097d2f47848df5e868ca4155989b76696bab6"
   },
   "outputs": [],
   "source": [
    "(market_obs_df, news_obs_df, predictions_template_df) = next(days)"
   ]
  },
  {
   "cell_type": "code",
   "execution_count": null,
   "metadata": {
    "trusted": true,
    "_uuid": "3dec43365de576211f053afc206b9143f97a6d1c"
   },
   "outputs": [],
   "source": [
    "market_obs_df.time.max()"
   ]
  },
  {
   "cell_type": "code",
   "execution_count": null,
   "metadata": {
    "trusted": true,
    "_uuid": "3082909d9d0d608d51a3c8de7267970c646ef156"
   },
   "outputs": [],
   "source": [
    "market_obs_df.time.min()"
   ]
  },
  {
   "cell_type": "code",
   "execution_count": null,
   "metadata": {
    "trusted": true,
    "_uuid": "28fb3e704a15d615afec3eb37e1d483726beabdc"
   },
   "outputs": [],
   "source": [
    "news_obs_df.head()"
   ]
  },
  {
   "cell_type": "code",
   "execution_count": null,
   "metadata": {
    "trusted": true,
    "_uuid": "8da57c8143b325641e2b6210e6f284a64b308887"
   },
   "outputs": [],
   "source": [
    "news_obs_df.time.max()"
   ]
  },
  {
   "cell_type": "code",
   "execution_count": null,
   "metadata": {
    "trusted": true,
    "_uuid": "79e51f7dc6dace999788ba34f9a633a38da243d1"
   },
   "outputs": [],
   "source": [
    "news_obs_df.time.min()"
   ]
  },
  {
   "cell_type": "markdown",
   "metadata": {
    "_uuid": "8056b881707072c379ad2e89b9c59c3c041a2ab7"
   },
   "source": [
    "## Main Loop\nLet's loop through all the days and make our random predictions.  The `days` generator (returned from `get_prediction_days`) will simply stop returning values once you've reached the end."
   ]
  },
  {
   "cell_type": "code",
   "execution_count": null,
   "metadata": {
    "trusted": true,
    "_uuid": "ef60bc52a8a228e5a2ce18e4bd416f1f1f25aeae"
   },
   "outputs": [],
   "source": [
    "# for (market_obs_df, news_obs_df, predictions_template_df) in days:\n",
    "#     make_random_predictions(predictions_template_df)\n",
    "#     env.predict(predictions_template_df)\n",
    "# print('Done!')"
   ]
  },
  {
   "cell_type": "markdown",
   "metadata": {
    "_uuid": "7c8fbcca87c7f6abc53e86408417bf12ce21bb7f"
   },
   "source": [
    "## **`write_submission_file`** function\n\nWrites your predictions to a CSV file (`submission.csv`) in the current working directory."
   ]
  },
  {
   "cell_type": "code",
   "execution_count": null,
   "metadata": {
    "trusted": true,
    "_uuid": "2c8ed34ffb2c47c6e124530ec798c0b4eb01ddd5"
   },
   "outputs": [],
   "source": [
    "#env.write_submission_file()"
   ]
  },
  {
   "cell_type": "code",
   "execution_count": null,
   "metadata": {
    "trusted": true,
    "_uuid": "d38aa8a67cad3f0c105db7e764ec9b805db39ceb"
   },
   "outputs": [],
   "source": [
    "# We've got a submission file!\n",
    "import os\n",
    "print([filename for filename in os.listdir('.') if '.csv' in filename])"
   ]
  },
  {
   "cell_type": "markdown",
   "metadata": {
    "_uuid": "f464f37885ffa763a2592e2867d74685f75be506"
   },
   "source": [
    "As indicated by the helper message, calling `write_submission_file` on its own does **not** make a submission to the competition.  It merely tells the module to write the `submission.csv` file as part of the Kernel's output.  To make a submission to the competition, you'll have to **Commit** your Kernel and find the generated `submission.csv` file in that Kernel Version's Output tab (note this is _outside_ of the Kernel Editor), then click \"Submit to Competition\".  When we re-run your Kernel during Stage Two, we will run the Kernel Version (generated when you hit \"Commit\") linked to your chosen Submission."
   ]
  },
  {
   "cell_type": "markdown",
   "metadata": {
    "_uuid": "2e3a267ea3149403c49ff59515a1a669ca2d1f9f"
   },
   "source": [
    "## Restart the Kernel to run your code again\nIn order to combat cheating, you are only allowed to call `make_env` or iterate through `get_prediction_days` once per Kernel run.  However, while you're iterating on your model it's reasonable to try something out, change the model a bit, and try it again.  Unfortunately, if you try to simply re-run the code, or even refresh the browser page, you'll still be running on the same Kernel execution session you had been running before, and the `twosigmanews` module will still throw errors.  To get around this, you need to explicitly restart your Kernel execution session, which you can do by pressing the Restart button in the Kernel Editor's bottom Console tab:\n![Restart button](https://i.imgur.com/hudu8jF.png)"
   ]
  }
 ],
 "metadata": {
  "kernelspec": {
   "display_name": "Python 3",
   "language": "python",
   "name": "python3"
  },
  "language_info": {
   "name": "python",
   "version": "3.6.6",
   "mimetype": "text/x-python",
   "codemirror_mode": {
    "name": "ipython",
    "version": 3
   },
   "pygments_lexer": "ipython3",
   "nbconvert_exporter": "python",
   "file_extension": ".py"
  }
 },
 "nbformat": 4,
 "nbformat_minor": 1
}
